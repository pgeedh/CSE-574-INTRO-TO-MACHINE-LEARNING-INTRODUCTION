{
  "cells": [
    {
      "cell_type": "markdown",
      "metadata": {
        "id": "KH1K6cXFvnmj"
      },
      "source": [
        "<div align=\"center\"> <h3><font color='blue'>CSE 574: Introduction to Machine Learning, Summer 2022 </font> \n",
        "<h1> Assignment 1 - Introduction to Python\n",
        "\n",
        "<h2><font color='red'>Due Date: </font> June 10, Friday, 11:59pm ET</div>\n",
        "\n",
        "Welcome to your first CSE 574 assignment! The goal of this assignment is to sharpen your programming skills needed for this class. It is focused on familiarizing yourself with Python and main data science libraries that will be used for other assignments as well.\n",
        "\n",
        "There are a total of five parts. We will focus on basic Python functions, explore NumPy, Pandas and Matplotlib libraries and analyze the real-world dataset.\n",
        "\n",
        "If you are new to Python, check our [Python resources page](https://ubuffalo-my.sharepoint.com/:w:/g/personal/avereshc_buffalo_edu/ESoUg6v6aoJImaeWXy90SqMBiubxGGAkG7dhaNyhuBum_w?e=3Tlwbz).\n",
        "\n",
        "\n",
        "### Submission\n",
        "\n",
        "All the details you need for this assignment are located within this notebook. You are expected to follow every block and complete the task within the marks ``` # BEGIN_YOUR_CODE ``` and ```# END_YOUR_CODE```. Do not modify or edit code beyond these lines. You can add helper functions in the new cells, if needed. We recommend completing the task within this .ipynb notebook, if needed you can convert it and submit as .py script. Try to make your code as clean and simple as possible and be sure to write your answers between the begin answer and end answer comments.\n",
        "\n",
        "1. Submit at **UBLearns > Assignments**\n",
        "2. The code of your implementations should be written in Python\n",
        "3. All project files should be packed in a ZIP file named YOUR_FIRST_NAME_YOUR_LAST_NAME_assignment1.zip (e.g. nitin_kulkarni_assignment1.zip).\n",
        "4. Your Jupyter notebook should be saved with the results. If you are submitting python scripts, after extracting the ZIP file and executing command python main.py in the first level directory, all the generated results and plots you used in your report should appear printed out in a clear manner.  \n",
        "6. Include all the references that have been used to complete the assignment.\n",
        "\n",
        "### Final Submission <font color='red'>[Due Date: Feb 10]</font>\n",
        "Complete all parts of the assignment and submit the code in the ZIP file named YOUR_FIRST_NAME_YOUR_LAST_NAME_assignment1.zip.\n",
        "\n",
        "**Assignment Outline**\n",
        "\n",
        "| Part | Description | # of tasks | Points |\n",
        "| --- | --- | --- | --- |\n",
        "| [Part 1](#part1) | Basics | 10 | 20 |\n",
        "| [Part 2](#part2) | NumPy Basics | 11 | 20 |\n",
        "| [Part 3](#part3) | Algorithms | 2 | 20 |\n",
        "| [Part 4](#part4) | Pandas Basics | 7 | 20 |\n",
        "| [Part 5](#part5) | Matplotlib Basics | 9 | 20 |\n",
        "\n",
        " \n",
        "### Academic Integrity\n",
        "\n",
        "This assignment must be completed individually.\n",
        "The standing policy of the Department is that all students involved in any academic integrity violation (e.g. plagiarism in any way, shape, or form) will receive an F grade for the course. The catalog describes plagiarism as “Copying or receiving material from any source and submitting that material as one’s own, without acknowledging and citing the particular debts to the source, or in any other manner representing the work of another as one’s own.”. Refer to the [Office of Academic Integrity](https://www.buffalo.edu/academic-integrity.html) for more details.\n",
        "\n",
        "    \n",
        "### Late Days Policy\n",
        "You can use up to 3 late days throughout the course toward any assignments. You do not have to inform the instructor, as the late submission will be tracked in UBlearns.\n",
        "\n",
        "### FAQ\n",
        ">What does 'raise Exception(\"Not implemented yet\")' mean?\n",
        "\n",
        "Here we define a custom exception to highlight that the task is not implemented yet. Once you implement your code, ensure to remove this part.\n",
        "\n",
        ">Can I add code beyond # BEGIN_YOUR_CODE parts.\n",
        "\n",
        "Yes, you can add helper functions. Add them in the separate cell with the comments, why you need it.\n"
      ]
    },
    {
      "cell_type": "markdown",
      "metadata": {
        "id": "mCNsOA6GyUVZ"
      },
      "source": [
        "## START COMPLETING YOUR ASSIGNMENT HERE"
      ]
    },
    {
      "cell_type": "markdown",
      "metadata": {
        "id": "RiMGYifjvnmy"
      },
      "source": [
        "<a id='part1'></a>\n",
        "## Part 1 - Python Basics [20 points]"
      ]
    },
    {
      "cell_type": "markdown",
      "metadata": {
        "id": "2LUCpwD6vnm1"
      },
      "source": [
        "The first part of this assignment gives you practice with Python syntax. Follow the cells below for the instructions."
      ]
    },
    {
      "cell_type": "code",
      "execution_count": 221,
      "metadata": {
        "colab": {
          "base_uri": "https://localhost:8080/"
        },
        "id": "pYW7jZF2vnm2",
        "outputId": "978c31e1-f750-4a25-91c0-73c8fe8cf790"
      },
      "outputs": [
        {
          "output_type": "stream",
          "name": "stdout",
          "text": [
            "Printing Hello 101 times:\n",
            "Hello \n",
            "Hello \n",
            "Hello \n",
            "Hello \n",
            "Hello \n",
            "Hello \n",
            "Hello \n",
            "Hello \n",
            "Hello \n",
            "Hello \n",
            "Hello \n",
            "Hello \n",
            "Hello \n",
            "Hello \n",
            "Hello \n",
            "Hello \n",
            "Hello \n",
            "Hello \n",
            "Hello \n",
            "Hello \n",
            "Hello \n",
            "Hello \n",
            "Hello \n",
            "Hello \n",
            "Hello \n",
            "Hello \n",
            "Hello \n",
            "Hello \n",
            "Hello \n",
            "Hello \n",
            "Hello \n",
            "Hello \n",
            "Hello \n",
            "Hello \n",
            "Hello \n",
            "Hello \n",
            "Hello \n",
            "Hello \n",
            "Hello \n",
            "Hello \n",
            "Hello \n",
            "Hello \n",
            "Hello \n",
            "Hello \n",
            "Hello \n",
            "Hello \n",
            "Hello \n",
            "Hello \n",
            "Hello \n",
            "Hello \n",
            "Hello \n",
            "Hello \n",
            "Hello \n",
            "Hello \n",
            "Hello \n",
            "Hello \n",
            "Hello \n",
            "Hello \n",
            "Hello \n",
            "Hello \n",
            "Hello \n",
            "Hello \n",
            "Hello \n",
            "Hello \n",
            "Hello \n",
            "Hello \n",
            "Hello \n",
            "Hello \n",
            "Hello \n",
            "Hello \n",
            "Hello \n",
            "Hello \n",
            "Hello \n",
            "Hello \n",
            "Hello \n",
            "Hello \n",
            "Hello \n",
            "Hello \n",
            "Hello \n",
            "Hello \n",
            "Hello \n",
            "Hello \n",
            "Hello \n",
            "Hello \n",
            "Hello \n",
            "Hello \n",
            "Hello \n",
            "Hello \n",
            "Hello \n",
            "Hello \n",
            "Hello \n",
            "Hello \n",
            "Hello \n",
            "Hello \n",
            "Hello \n",
            "Hello \n",
            "Hello \n",
            "Hello \n",
            "Hello \n",
            "Hello \n",
            "Hello \n",
            "\n"
          ]
        }
      ],
      "source": [
        "''' Hello\n",
        "Print a word \"Hello \" 101 times\n",
        "'''\n",
        "\n",
        "# BEGIN_YOUR_CODE\n",
        "print(\"Printing Hello 101 times:\")\n",
        "print(\"Hello \\n\" *101)\n",
        "# END_YOUR_CODE"
      ]
    },
    {
      "cell_type": "code",
      "execution_count": 222,
      "metadata": {
        "colab": {
          "base_uri": "https://localhost:8080/"
        },
        "id": "4KBNDSXyyUVd",
        "outputId": "59957690-f5cd-43e9-8c63-117d0b73d0d0"
      },
      "outputs": [
        {
          "output_type": "stream",
          "name": "stdout",
          "text": [
            "Hello UB\n"
          ]
        }
      ],
      "source": [
        "''' Hello World\n",
        "Using two variables hello and world defined below return 'Hello UB'. \n",
        "'''\n",
        "\n",
        "hello  = 'hello'\n",
        "world = 'ub'\n",
        "\n",
        "# BEGIN_YOUR_CODE\n",
        "print(hello.capitalize() + \" \" + world.upper()) #joining the two variables \n",
        "# END_YOUR_CODE"
      ]
    },
    {
      "cell_type": "code",
      "execution_count": 223,
      "metadata": {
        "colab": {
          "base_uri": "https://localhost:8080/"
        },
        "id": "rv0GdZvZyUVe",
        "outputId": "d40734ef-c508-4c1e-fcb3-9eeb8e325393"
      },
      "outputs": [
        {
          "output_type": "stream",
          "name": "stdout",
          "text": [
            "Updated list:\n",
            "[0, 1, 2, 3, 4, 5]\n"
          ]
        }
      ],
      "source": [
        "''' Updating elements\n",
        "Given a string my_list, update the third element to '2' and fourth element to '3', so the output is as follows: [0, 1, 2, 3, 4, 5]\n",
        "'''\n",
        "\n",
        "my_list = [0, 1, 'two', 'three', 4, 5]\n",
        "\n",
        "# BEGIN_YOUR_CODE\n",
        "my_list[2] = 2 #accessing the 2nd element in the list and changing it from 'two' to '2'\n",
        "my_list[3] = 3 #accessing the 3rd element in the list and changing it from 'three' to '3'\n",
        "print(\"Updated list:\")\n",
        "print(my_list) #printing the updated list\n",
        "# END_YOUR_CODE"
      ]
    },
    {
      "cell_type": "code",
      "execution_count": 224,
      "metadata": {
        "colab": {
          "base_uri": "https://localhost:8080/"
        },
        "id": "XnItSlEeyUVf",
        "outputId": "c34d5db7-9a2b-49e8-da32-4b4b10d4316e"
      },
      "outputs": [
        {
          "output_type": "stream",
          "name": "stdout",
          "text": [
            "printing first 12 numbers of fibonacci series starting from 0\n",
            "0 1 1 2 3 5 8 13 21 34 55 89 "
          ]
        }
      ],
      "source": [
        "'''Fibonacci Series\n",
        "Print the first 12 Fibonacci numbers\n",
        "'''\n",
        "\n",
        "# BEGIN_YOUR_CODE\n",
        "#defining a function\n",
        "def printFibonacciNumbers(n):\n",
        "  #first two elements\n",
        "  a= 0\n",
        "  b = 1\n",
        "  if (n < 1):\n",
        "    return\n",
        "  print(a, end=\" \")\n",
        "  for x in range(1, n):\n",
        "    print(b, end=\" \")\n",
        "    next = a + b\n",
        "    a = b\n",
        "    b = next\n",
        "print(\"Printing first 12 numbers of fibonacci series starting from 0\")\n",
        "\n",
        "#calling the defined  function for first 12 numbers\n",
        "printFibonacciNumbers(12)\n",
        "\n",
        "# END_YOUR_CODE"
      ]
    },
    {
      "cell_type": "code",
      "execution_count": 225,
      "metadata": {
        "colab": {
          "base_uri": "https://localhost:8080/"
        },
        "id": "eQ7SJvrLvnm5",
        "outputId": "7a2e30e5-923c-4bce-f894-8ed8b0b0b706"
      },
      "outputs": [
        {
          "output_type": "stream",
          "name": "stdout",
          "text": [
            "Reversed list:\n",
            "['The Matrix Resurrections', 'The Matrix Revolutions', 'The Matrix Reloaded', 'The Matrix']\n"
          ]
        }
      ],
      "source": [
        "''' Reversing\n",
        "Reverse the order of elements in a list given below, so the output is as follows: ['The Matrix Resurrections', 'The Matrix Revolutions', 'The Matrix Reloaded', 'The Matrix']\n",
        "'''\n",
        "\n",
        "list1 = [\"The Matrix\", \"The Matrix Reloaded\", \"The Matrix Revolutions\", \"The Matrix Resurrections\"]\n",
        "\n",
        "# BEGIN_YOUR_CODE\n",
        "#reversed_list = list(reversed(list1))\n",
        "#print(reversed_list)\n",
        "print(\"Reversed list:\")\n",
        "print(list1[::-1]) #reversing the list \n",
        "# END_YOUR_CODE"
      ]
    },
    {
      "cell_type": "code",
      "execution_count": 226,
      "metadata": {
        "colab": {
          "base_uri": "https://localhost:8080/"
        },
        "id": "G472Jj3gvnm6",
        "outputId": "e18c4a20-a940-489c-ec53-39d650c63fc1"
      },
      "outputs": [
        {
          "output_type": "stream",
          "name": "stdout",
          "text": [
            "python\n"
          ]
        }
      ],
      "source": [
        "'''Concatenating strings\n",
        "Concatenate strings in a list below, so the output is as follows: \"python\"\n",
        "'''\n",
        "\n",
        "list2 = ['p', 'y', 't', 'h', 'o', 'n']\n",
        "\n",
        "# BEGIN_YOUR_CODE\n",
        "print(\"\".join(list2)) #joins all the elements in the list \n",
        "# END_YOUR_CODE"
      ]
    },
    {
      "cell_type": "code",
      "execution_count": 227,
      "metadata": {
        "colab": {
          "base_uri": "https://localhost:8080/"
        },
        "id": "vsIKrnuFvnm7",
        "outputId": "24e7422c-d847-493a-fb17-0284aaab6d30"
      },
      "outputs": [
        {
          "output_type": "stream",
          "name": "stdout",
          "text": [
            "1. Yann LeCun\n",
            "2. Yoshua Bengio\n",
            "3. Geoffrey Hinton\n",
            "4. Fei-Fei Li\n",
            "5. Andrew Ng\n"
          ]
        }
      ],
      "source": [
        "'''Numbering a list\n",
        "Print a numbered list of the famous AI researchers using \"enumerate()\" function\n",
        "'''\n",
        "\n",
        "researchers = ['Yann LeCun', 'Yoshua Bengio', 'Geoffrey Hinton', 'Fei-Fei Li', 'Andrew Ng']\n",
        "\n",
        "# BEGIN_YOUR_CODE\n",
        "for i, item in enumerate(researchers,1):  #using enumerte function to start from 1\n",
        "    print(str(i)+'. '+ item)\n",
        "# END_YOUR_CODE"
      ]
    },
    {
      "cell_type": "code",
      "execution_count": 228,
      "metadata": {
        "colab": {
          "base_uri": "https://localhost:8080/"
        },
        "id": "Izsh0n6Hvnm8",
        "outputId": "d2f3c4b5-8d4b-41b6-efb8-971725646b3e"
      },
      "outputs": [
        {
          "output_type": "stream",
          "name": "stdout",
          "text": [
            "Combined list using zip function:\n",
            "[('Yann LeCun', 'Facebook'), ('Yoshua Bengio', 'Université de Montréal'), ('Geoffrey Hinton', 'University of Toronto'), ('Fei-Fei Li', 'Stanford University'), ('Andrew Ng', 'Landing AI')]\n"
          ]
        }
      ],
      "source": [
        "'''Combining lists\n",
        "Combine two lists given below using zip() fucntion and print out the result\n",
        "'''\n",
        "\n",
        "researchers = ['Yann LeCun', 'Yoshua Bengio', 'Geoffrey Hinton', 'Fei-Fei Li', 'Andrew Ng']\n",
        "work = ['Facebook', 'Université de Montréal', 'University of Toronto', 'Stanford University', 'Landing AI']\n",
        "\n",
        "# BEGIN_YOUR_CODE\n",
        "zip_list=list(zip(researchers, work))\n",
        "print(\"Combined list using zip function:\")\n",
        "print(zip_list)\n",
        "# END_YOUR_CODE"
      ]
    },
    {
      "cell_type": "code",
      "execution_count": 229,
      "metadata": {
        "colab": {
          "base_uri": "https://localhost:8080/"
        },
        "id": "SOl2r3xpyUVp",
        "outputId": "6fedce56-4f56-4861-fae7-46f540a8de44"
      },
      "outputs": [
        {
          "output_type": "stream",
          "name": "stdout",
          "text": [
            "Square of even numbers and cube of odd numbers till 12:\n",
            "[1, 4, 27, 16, 125, 36, 343, 64, 729, 100, 1331, 144]\n"
          ]
        }
      ],
      "source": [
        "'''Print squares of even numbers and cubes of odd numbers for numbers from 1 till 12.\n",
        "So the output comes in the form as follows: [1, 4, 27, 16, 125, 36, ...., 144]\n",
        "'''\n",
        "\n",
        "# BEGIN_YOUR_CODE\n",
        "a = [num**2 if num % 2 == 0 else num**3 for num in range(1,13)]\n",
        "print(\"Square of even numbers and cube of odd numbers till 12:\")\n",
        "print(a)\n",
        "\n",
        "# END_YOUR_CODE"
      ]
    },
    {
      "cell_type": "code",
      "execution_count": 230,
      "metadata": {
        "id": "tM242AlVvnm9"
      },
      "outputs": [],
      "source": [
        "''' Sum function\n",
        "Modify the function below to return a sum of a and b\n",
        "'''\n",
        "\n",
        "def add(a: int, b: int) -> int:\n",
        "    \n",
        "    # BEGIN_YOUR_CODE\n",
        "    sum=a+b\n",
        "    return sum\n",
        "  \n",
        "    # END_YOUR_CODE"
      ]
    },
    {
      "cell_type": "markdown",
      "metadata": {
        "id": "o4HwFdtlvnm_"
      },
      "source": [
        "We defined ```add_test``` to test your ```add``` function. For this function we ```import random``` library. This is a very commonly used package that helps to generate random values. For example:\n",
        "\n",
        "``` python\n",
        "random.randint(0, 100) #Returns any random integer from 0 to 100\n",
        "```"
      ]
    },
    {
      "cell_type": "code",
      "execution_count": 231,
      "metadata": {
        "id": "TfVs9QUIvnnA"
      },
      "outputs": [],
      "source": [
        "import random\n",
        "\n",
        "def add_test():\n",
        "    a = random.randint(0, 9) #creating an integer number selected from the specified range 0 to 9\n",
        "    b = random.randint(0, 9)\n",
        "    result = add(a, b) #performs addition of the two integer a and b and store the value in variable name result\n",
        "\n",
        "    return('Value of a is {0}, value of b is {1}, and their sum is {2}.'.format(a, b,result))"
      ]
    },
    {
      "cell_type": "code",
      "execution_count": 232,
      "metadata": {
        "colab": {
          "base_uri": "https://localhost:8080/"
        },
        "id": "cOLrlf2GvnnB",
        "outputId": "810c2364-f07d-4333-ba16-ea2a058d82ac"
      },
      "outputs": [
        {
          "output_type": "stream",
          "name": "stdout",
          "text": [
            "Value of a is 9, value of b is 2, and their sum is 11.\n"
          ]
        }
      ],
      "source": [
        "# Here we call our function 'add_test' to test your add function with random values\n",
        "if __name__ == '__main__':\n",
        "    print(add_test())"
      ]
    },
    {
      "cell_type": "markdown",
      "metadata": {
        "id": "12yDhDMxvnnB"
      },
      "source": [
        "<a id='part2'></a>\n",
        "## Part 2 - Numpy Basics [20 points]"
      ]
    },
    {
      "cell_type": "markdown",
      "metadata": {
        "id": "-JmI82NyvnnC"
      },
      "source": [
        "In this section we will explore one of the most commonly used package - Numpy. You can refer to the [Official NumPy Guide](https://numpy.org/doc/stable/)."
      ]
    },
    {
      "cell_type": "code",
      "execution_count": 233,
      "metadata": {
        "id": "CstiC-8CvnnC"
      },
      "outputs": [],
      "source": [
        "'''Import the numpy package\n",
        "'''\n",
        "\n",
        "# BEGIN_YOUR_CODE\n",
        "import numpy as np\n",
        "# END_YOUR_CODE"
      ]
    },
    {
      "cell_type": "code",
      "execution_count": 234,
      "metadata": {
        "colab": {
          "base_uri": "https://localhost:8080/"
        },
        "id": "2Cdaj9aTvnnE",
        "outputId": "7e44b570-a93f-4f56-e261-457278fb03e1"
      },
      "outputs": [
        {
          "output_type": "stream",
          "name": "stdout",
          "text": [
            "creating random list of array:\n",
            "[43 20 42 26 45  0 16 48 40 29]\n"
          ]
        }
      ],
      "source": [
        "''' Random integers\n",
        "Create an array of random integers from 0 to 50 with the length 10 using numpy random generator\n",
        "'''\n",
        "\n",
        "# BEGIN_YOUR_CODE\n",
        "import random\n",
        "array= np.random.randint(0,50,10) #creates a random integer array from range of 0 to 50 with length 10\n",
        "print(\"Creating random list of array:\")\n",
        "# END_YOUR_CODE\n",
        "\n",
        "print(array)"
      ]
    },
    {
      "cell_type": "code",
      "execution_count": 235,
      "metadata": {
        "colab": {
          "base_uri": "https://localhost:8080/"
        },
        "id": "D_NEdSyVvnnF",
        "outputId": "6ec72f2f-a716-4e88-9638-a7bb246a7e0f"
      },
      "outputs": [
        {
          "output_type": "stream",
          "name": "stdout",
          "text": [
            "The first 2 elements are [43 20] \n",
            "The last two elements are [40 29] \n",
            "Elements in the middle are [42 26 45  0 16 48].\n"
          ]
        }
      ],
      "source": [
        "''' Slicing\n",
        "Slice the above array and extract the first 2 elements, the last two elements, and all elements that are left in the middle.\n",
        "'''\n",
        "\n",
        "# BEGIN_YOUR_CODE\n",
        "first_two = array[:2] #extracting first 2 elements of the random generated array\n",
        "last_two = array[-2:] #extracting last 2 elements of the random generated array\n",
        "middle = array[2:-2]  #extracting all the elements in the middle excluding first two and last two elements\n",
        "# END_YOUR_CODE\n",
        "\n",
        "print('The first 2 elements are {0} \\nThe last two elements are {1} \\nElements in the middle are {2}.'.format(first_two, last_two, middle))"
      ]
    },
    {
      "cell_type": "code",
      "execution_count": 236,
      "metadata": {
        "colab": {
          "base_uri": "https://localhost:8080/"
        },
        "id": "lIyyN3doyUVt",
        "outputId": "a6d7ef19-2b4a-4dbb-8de4-b5621d731f04"
      },
      "outputs": [
        {
          "output_type": "stream",
          "name": "stdout",
          "text": [
            "splitting the array and displaying in desired format:\n",
            "[array([43, 20]), array([42, 26]), array([45,  0]), array([16, 48]), array([40, 29])]\n"
          ]
        }
      ],
      "source": [
        "'''Split an array\n",
        "For the above list 'array' split the list into 5 equal parts  and print it in the form\n",
        "[array([1,2]), array([3,4]), array([5,6]), array([7,8]), array([9,10])]\n",
        "\n",
        "'''\n",
        "\n",
        "# BEGIN_YOUR_CODE\n",
        "a_size = 2  #defining a chunk size of 2 as  we need to split array of length 10 into 5 equal parts\n",
        "list_chunk = [array[i:i + a_size]\n",
        "              for i in range(0, len(array),a_size)] \n",
        "print(\"Splitting the array and displaying in desired format:\")\n",
        "print(list_chunk)\n",
        "# END_YOUR_CODE"
      ]
    },
    {
      "cell_type": "code",
      "execution_count": null,
      "metadata": {
        "id": "wdTXcFuqyUVu"
      },
      "outputs": [],
      "source": [
        "'''Generate two arrays of size 10 (integers randomly selected between 1 and 100). \n",
        "Print unique elements of array1 and common elements of both arrays separately\n",
        "'''\n",
        "\n",
        "# BEGIN_YOUR_CODE\n",
        "array1 = np.random.randint(1,100,10) #creates an random integer array of length 10 from range 1 to 100\n",
        "print(\"Array1:\")\n",
        "print(array1)\n",
        "array2 = np.random.randint(1,100,10) #creates an random integer array of length 10 from range 1 to 100\n",
        "print(\"Array2:\")\n",
        "print(array2)\n",
        "unique_elements_array1 = np.unique(array1) #finds unique elements in the randomly generated array1\n",
        "print(\"Unique elements in array1:\")\n",
        "print(unique_elements_array1)\n",
        "common_elements_array1_array2 = np.intersect1d(array1, array2) #finds the common elements from array1 and array2 and stores it in a new variabale\n",
        "print(\"Common elements in array1 and array2:\")\n",
        "print(common_elements_array1_array2)\n",
        "# END_YOUR_CODE"
      ]
    },
    {
      "cell_type": "code",
      "execution_count": 238,
      "metadata": {
        "colab": {
          "base_uri": "https://localhost:8080/"
        },
        "id": "x39Fry3OvnnF",
        "outputId": "2bb2be2a-4ab7-4d46-a9a8-9fd4428baca0"
      },
      "outputs": [
        {
          "output_type": "stream",
          "name": "stdout",
          "text": [
            "2D matrix:\n",
            "[[43 20]\n",
            " [42 26]\n",
            " [45  0]\n",
            " [16 48]\n",
            " [40 29]]\n",
            "Shape of the 2D matrix:\n",
            "(5, 2)\n"
          ]
        }
      ],
      "source": [
        "'''Changing dimensions\n",
        "Convert your 1D array defined above to a 2D matrix and print its shape. The final output dimension should be 5x2.\n",
        "'''\n",
        "\n",
        "# BEGIN_YOUR_CODE\n",
        "arr_2d = np.reshape(array, (5, 2)) #reshapes the 1D array into a 5x2 2D matrix.\n",
        "print(\"2D matrix:\")\n",
        "print(arr_2d) #printitng the 2D matrix\n",
        "\n",
        "print(\"Shape of the 2D matrix:\") \n",
        "print(arr_2d.shape) #shape of the matrix\n",
        "# END_YOUR_CODE"
      ]
    },
    {
      "cell_type": "code",
      "execution_count": 239,
      "metadata": {
        "colab": {
          "base_uri": "https://localhost:8080/"
        },
        "id": "GTPk6XwivnnG",
        "outputId": "735cc543-be54-4f8c-efe3-3ee2b8da6858"
      },
      "outputs": [
        {
          "output_type": "stream",
          "name": "stdout",
          "text": [
            "Converted 1D array:\n",
            "[1 2 3 4 5 6]\n",
            "Dimension of the array\n",
            "1 dimension\n"
          ]
        }
      ],
      "source": [
        "'''Changing dimensions\n",
        "Convert a matrix below to 1D array and print its dimension\n",
        "'''\n",
        "\n",
        "A = np.array([[1,2], [3,4], [5,6]])\n",
        "\n",
        "# BEGIN_YOUR_CODE\n",
        "A= (np.asarray(A)).flatten()\n",
        "print(\"Converted 1D array:\")\n",
        "print(A)\n",
        "print(\"Dimension of the array\")\n",
        "print(A.ndim, \"dimension\")\n",
        "# END_YOUR_CODE"
      ]
    },
    {
      "cell_type": "code",
      "execution_count": 240,
      "metadata": {
        "colab": {
          "base_uri": "https://localhost:8080/"
        },
        "id": "ALyMwuojvnnM",
        "outputId": "d0da1544-1d4d-402b-b53b-abefdb324a2d"
      },
      "outputs": [
        {
          "output_type": "stream",
          "name": "stdout",
          "text": [
            "\n",
            "Matrix A is \n",
            "[[0.9797572  0.19994521 0.03180052 0.51292585 0.50061595 0.28021176]\n",
            " [0.86495567 0.47541392 0.91229061 0.19438597 0.62972431 0.20083109]\n",
            " [0.2533297  0.21265415 0.10166531 0.47209375 0.94225176 0.7627315 ]\n",
            " [0.70238846 0.41959746 0.68813116 0.81429616 0.08752766 0.42964984]\n",
            " [0.30294308 0.733069   0.25634702 0.06667308 0.95665498 0.68759853]] \n",
            "Matrix B is \n",
            "[[0.38807515 0.63507854 0.0897938  0.82661809 0.19307988]\n",
            " [0.10530696 0.53169139 0.86390339 0.79578874 0.96970976]\n",
            " [0.89972335 0.59491248 0.31978171 0.3128015  0.29154829]\n",
            " [0.33006705 0.3142526  0.97647    0.08897206 0.41734743]\n",
            " [0.05382411 0.8031872  0.90979088 0.33059542 0.08228617]\n",
            " [0.02329777 0.1422018  0.66144307 0.3660401  0.44640643]], \n",
            "Their product is \n",
            "[[0.63266015 1.35057366 1.41253535 1.29265258 0.77268199]\n",
            " [1.30927504 1.94025268 1.67568104 1.67767406 1.1165922 ]\n",
            " [0.43648396 1.34805562 2.06171169 1.04313334 0.89981567]\n",
            " [1.21938702 1.46583876 1.80457011 1.38842132 1.28197347]\n",
            " [0.51492055 1.62176614 2.13274581 1.48785846 1.25758763]]\n"
          ]
        }
      ],
      "source": [
        "''' Matrices\n",
        "Create two matrices A and B of size 5X6 and 6X5 respectively with random float values from 0 to 1, and perform the dot product on them\n",
        "'''\n",
        "\n",
        "# BEGIN_YOUR_CODE\n",
        "A = np.random.rand(5,6) #creates a random float value matrix of size 5x6 between range 0 to 1\n",
        "B = np.random.rand(6,5) #creates a random float value matrix of size 6x5 between range 0 to 1\n",
        "dot_product = np.dot(A,B) #dot product of matrix A and Matrix B\n",
        "# END_YOUR_CODE\n",
        "\n",
        "print('\\nMatrix A is \\n{0} \\nMatrix B is \\n{1}, \\nTheir product is \\n{2}'.format(A, B, dot_product))"
      ]
    },
    {
      "cell_type": "code",
      "execution_count": 241,
      "metadata": {
        "id": "cf2kSBLXvnnN",
        "colab": {
          "base_uri": "https://localhost:8080/"
        },
        "outputId": "59cb9879-983f-48bf-943a-a225d083e78b"
      },
      "outputs": [
        {
          "output_type": "stream",
          "name": "stdout",
          "text": [
            "[0.9797572  0.91229061 0.94225176 0.81429616 0.95665498]\n"
          ]
        }
      ],
      "source": [
        "''' Maximum value\n",
        "Return the maximum value present in each row of Matrix A created in the previous question. \n",
        "Result should come in the form: [row1_max row2_max row3_max row4_max row5_max]\n",
        "'''\n",
        "\n",
        "# BEGIN_YOUR_CODE\n",
        "max_val=np.amax(A,axis=1) # reference from numpy.org\n",
        "print(max_val)\n",
        "# END_YOUR_CODE"
      ]
    },
    {
      "cell_type": "code",
      "execution_count": 242,
      "metadata": {
        "colab": {
          "base_uri": "https://localhost:8080/"
        },
        "id": "khuCG55GvnnO",
        "outputId": "cc14a38e-7b74-475e-bc58-f61b445836a5"
      },
      "outputs": [
        {
          "output_type": "stream",
          "name": "stdout",
          "text": [
            "Resultant of the scalar multiplication:\n",
            "[[2.9392716  0.59983563 0.09540155 1.53877755 1.50184785 0.84063528]\n",
            " [2.59486702 1.42624176 2.73687184 0.58315792 1.88917293 0.60249327]\n",
            " [0.75998909 0.63796246 0.30499592 1.41628124 2.82675528 2.28819451]\n",
            " [2.10716538 1.25879237 2.06439347 2.44288849 0.26258297 1.28894953]\n",
            " [0.90882925 2.199207   0.76904107 0.20001923 2.86996495 2.06279558]]\n",
            "Shape of the matrix:\n",
            "(5, 6)\n"
          ]
        }
      ],
      "source": [
        "''' Multiply the Matrix A from previous question with a scalar 3\n",
        "'''\n",
        "\n",
        "# BEGIN_YOUR_CODE\n",
        "n = 3 #define a scalar n=3\n",
        "print(\"Resultant of the scalar multiplication:\")\n",
        "M= np.multiply(A,n) #multiplying the scalar with matrix A and storing the value in variable M\n",
        "print(M) #printing the matrix M\n",
        "print(\"Shape of the matrix:\") \n",
        "print(M.shape) #shape of the matrix\n",
        "\n",
        "# END_YOUR_CODE"
      ]
    },
    {
      "cell_type": "code",
      "execution_count": 243,
      "metadata": {
        "colab": {
          "base_uri": "https://localhost:8080/"
        },
        "id": "KVFM3ERnvnnP",
        "outputId": "c013c20a-0797-411a-f230-18362f01dacf"
      },
      "outputs": [
        {
          "output_type": "stream",
          "name": "stdout",
          "text": [
            "\n",
            "Matrix A is \n",
            "[[4 9 2 1]\n",
            " [7 9 3 7]] \n",
            "Matrix B is \n",
            "[[6 1 6 4]\n",
            " [9 8 5 8]], \n",
            "Their element-wise multiplication is \n",
            "[[24  9 12  4]\n",
            " [63 72 15 56]]\n"
          ]
        }
      ],
      "source": [
        "''' Element-wise multiplication\n",
        "Define two matrices A and B 2x4 with random integer values from 0 to 9. Perform element-wise multiplication of Matrices A and B\n",
        "''' \n",
        "\n",
        "# BEGIN_YOUR_CODE\n",
        "A = np.random.randint(10, size=(2, 4)) #creates a random integer matirix of size 2x4 from range 0 to 9\n",
        "B = np.random.randint(10, size=(2, 4)) #creates a random integer matirix of size 2x4 from range 0 to 9\n",
        "\n",
        "multiplicaiton = np.array(A)*np.array(B) #element wise multipication using * operator array multiplication\n",
        "\n",
        "# END_YOUR_CODE\n",
        "\n",
        "print('\\nMatrix A is \\n{0} \\nMatrix B is \\n{1}, \\nTheir element-wise multiplication is \\n{2}'.format(A, B, multiplicaiton))"
      ]
    },
    {
      "cell_type": "markdown",
      "metadata": {
        "id": "uiyFNoJivnnQ"
      },
      "source": [
        "<a id='part3'></a>\n",
        "## Part 3 - Algorithms [30 points]"
      ]
    },
    {
      "cell_type": "markdown",
      "metadata": {
        "id": "bE9PC_sEvnnQ"
      },
      "source": [
        "### Euclidian Distance\n",
        "\n",
        "Let point $p$ have Cartesian coordinates $(p_1,p_2)$ and let point $q$ have coordinates $(q_1,q_2)$. Then the distance between $p$ and $q$ is given by:\n",
        "    $d(p,q) = \\sqrt{(q_1-p_1)^2 + (q_2-p_2)^2}$.</math>"
      ]
    },
    {
      "cell_type": "code",
      "execution_count": 244,
      "metadata": {
        "id": "eWfSpbVqvnnR"
      },
      "outputs": [],
      "source": [
        "''' Euclidean distance\n",
        "Using numpy library return the Euclidean distance between two locations, where the locations are pairs of numbers (e.g., (3, 5)) '''\n",
        "\n",
        "def euclidean_distance(loc1: int, loc2: int) -> float:\n",
        "\n",
        "    # BEGIN_YOUR_CODE\n",
        "    sum_sq = np.sqrt(np.square(loc1[0] - loc2[0]) + np.square(loc1[1] - loc2[1])) #d(p,q) = sqrt{(q_1-p_1)^2 + (q_2-p_2)^2}.\n",
        "    return (sum_sq)\n",
        "    # END_YOUR_CODE"
      ]
    },
    {
      "cell_type": "markdown",
      "source": [
        ""
      ],
      "metadata": {
        "id": "gpDMiamYIPdE"
      }
    },
    {
      "cell_type": "code",
      "execution_count": 245,
      "metadata": {
        "id": "aKXPrvGBvnnR"
      },
      "outputs": [],
      "source": [
        "def euclidean_distance_test():\n",
        "    random.seed(34)\n",
        "    for _ in range(10):\n",
        "        x1 = random.randint(0, 10)\n",
        "        x2 = random.randint(0, 10)\n",
        "        y1 = random.randint(0, 10)\n",
        "        y2 = random.randint(0, 10)\n",
        "        dist = euclidean_distance((x1, x2), (y1, y2))\n",
        "    return('Loc1 is ({0}, {1}), loc2 is ({2}, {3}). Euclidian disctance is {4}.'.format(x1, x2, y1, y2, dist))"
      ]
    },
    {
      "cell_type": "code",
      "execution_count": 246,
      "metadata": {
        "colab": {
          "base_uri": "https://localhost:8080/"
        },
        "id": "yI3g4R1hvnnR",
        "outputId": "fa666b46-53ef-4ab4-96ce-0248faf3a81b"
      },
      "outputs": [
        {
          "output_type": "stream",
          "name": "stdout",
          "text": [
            "Loc1 is (5, 3), loc2 is (3, 7). Euclidian disctance is 4.47213595499958.\n"
          ]
        }
      ],
      "source": [
        "if __name__ == '__main__':\n",
        "    print(euclidean_distance_test())"
      ]
    },
    {
      "cell_type": "markdown",
      "metadata": {
        "id": "lTuFruDrvnnR"
      },
      "source": [
        "### String Operations"
      ]
    },
    {
      "cell_type": "code",
      "execution_count": 247,
      "metadata": {
        "id": "AGJHIeXkvnnS"
      },
      "outputs": [],
      "source": [
        "''' Alphabetically first word\n",
        "Given a string, lowecase, sort out all words in the alphabetical order and return the word that comes first.\n",
        "If the input text is an empty string, return an empty string or throw an error.  '''\n",
        "\n",
        "def first_word(text: str) -> str:\n",
        "    # BEGIN_YOUR_CODE\n",
        "    no_capital=text.lower()\n",
        "    letter= no_capital.split()\n",
        "    letter.sort() #sorting\n",
        "\n",
        "    return(letter[0])\n",
        "    \n",
        "    # END_YOUR_CODE"
      ]
    },
    {
      "cell_type": "code",
      "execution_count": 248,
      "metadata": {
        "id": "Suevhw9TvnnS"
      },
      "outputs": [],
      "source": [
        "def first_word_test():\n",
        "    result0 = first_word('WelCome tO Ub')\n",
        "    result1 = first_word('CSE574 IntRo to ML cLasS')\n",
        "    result2 = first_word('SequenCes of DeCiSions')\n",
        "    result3 = first_word('Wolf, Panther, Leopard, Dog, Cat')\n",
        "    return result0, result1, result2, result3"
      ]
    },
    {
      "cell_type": "code",
      "execution_count": 249,
      "metadata": {
        "colab": {
          "base_uri": "https://localhost:8080/"
        },
        "id": "DfSoFXLrvnnT",
        "outputId": "55af9a8d-f7f6-4eee-a5c6-3d249a245c2f"
      },
      "outputs": [
        {
          "output_type": "stream",
          "name": "stdout",
          "text": [
            "('to', 'class', 'decisions', 'cat')\n"
          ]
        }
      ],
      "source": [
        "if __name__ == '__main__':\n",
        "    print(first_word_test())"
      ]
    },
    {
      "cell_type": "markdown",
      "metadata": {
        "id": "zW6tTqawDOBv"
      },
      "source": [
        "## Load from Drive*\n",
        "\n",
        "*If you are using Goolge Colab, uncomment the following piece of code and verify the file using the command, if you can see your file ```museums.csv``` you are good to go."
      ]
    },
    {
      "cell_type": "code",
      "execution_count": 250,
      "metadata": {
        "colab": {
          "base_uri": "https://localhost:8080/"
        },
        "id": "eEBVFZRvyUVz",
        "outputId": "477088c8-b4ed-485a-a962-759337111314"
      },
      "outputs": [
        {
          "output_type": "stream",
          "name": "stdout",
          "text": [
            "/content/drive/MyDrive\n",
            "'2nd installmet.png'\n",
            "'BLACK BOOK3 (1).docx'\n",
            "'BLACK BOOK3.docx'\n",
            "'Colab Notebooks'\n",
            "'College LOR.docx'\n",
            "'ETR BIZZ2.pptx'\n",
            "'J&k'\n",
            "'LOR_Vishwas Palve Sir(US).docx'\n",
            "'museums (10).csv'\n",
            "'museums (11).csv'\n",
            "'museums (12).csv'\n",
            "'museums (13).csv'\n",
            "'museums (14).csv'\n",
            "'museums (15).csv'\n",
            "'museums (16).csv'\n",
            "'museums (1).csv'\n",
            "'museums (2).csv'\n",
            "'museums (3).csv'\n",
            "'museums (4).csv'\n",
            "'museums (5).csv'\n",
            "'museums (6).csv'\n",
            "'museums (7).csv'\n",
            "'museums (8).csv'\n",
            "'museums (9).csv'\n",
            " museums.csv\n",
            " PROCEJURELAW.mp4\n",
            "'race track1.mp4'\n",
            " Report-22OP0001595_PRUTHVI_OMKAR_GEEDH_05Jan2022_160910.pdf\n",
            "'requested documents.zip'\n",
            "'research paper 1.0.doc'\n",
            "'research paper 1.0.gdoc'\n",
            "'research paper 1.0 - Line chart 1.gsheet'\n",
            "'Screenshot 2020-07-17 at 1.03.34 PM.png'\n",
            " trailer2.mp4\n",
            " UB\n",
            " Untitledform-3.csv\n"
          ]
        }
      ],
      "source": [
        "!pwd\n",
        "!ls"
      ]
    },
    {
      "cell_type": "code",
      "execution_count": 251,
      "metadata": {
        "id": "nV7Jv5SPDGsy",
        "colab": {
          "resources": {
            "http://localhost:8080/nbextensions/google.colab/files.js": {
              "data": "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",
              "ok": true,
              "headers": [
                [
                  "content-type",
                  "application/javascript"
                ]
              ],
              "status": 200,
              "status_text": ""
            }
          },
          "base_uri": "https://localhost:8080/",
          "height": 125
        },
        "outputId": "e13475a6-51b6-4e48-e2bd-0914096fbdad"
      },
      "outputs": [
        {
          "output_type": "stream",
          "name": "stdout",
          "text": [
            "Drive already mounted at /content/drive; to attempt to forcibly remount, call drive.mount(\"/content/drive\", force_remount=True).\n",
            "/content/drive\n",
            "/content/drive/MyDrive\n"
          ]
        },
        {
          "output_type": "display_data",
          "data": {
            "text/plain": [
              "<IPython.core.display.HTML object>"
            ],
            "text/html": [
              "\n",
              "     <input type=\"file\" id=\"files-2d3d6181-e196-45f1-b882-afc7b71eb594\" name=\"files[]\" multiple disabled\n",
              "        style=\"border:none\" />\n",
              "     <output id=\"result-2d3d6181-e196-45f1-b882-afc7b71eb594\">\n",
              "      Upload widget is only available when the cell has been executed in the\n",
              "      current browser session. Please rerun this cell to enable.\n",
              "      </output>\n",
              "      <script src=\"/nbextensions/google.colab/files.js\"></script> "
            ]
          },
          "metadata": {}
        },
        {
          "output_type": "stream",
          "name": "stdout",
          "text": [
            "Saving museums.csv to museums (17).csv\n"
          ]
        }
      ],
      "source": [
        "from google.colab import drive\n",
        "drive.mount('/content/drive')\n",
        "%cd ..\n",
        "%cd /content/drive/MyDrive\n",
        "\n",
        "from google.colab import files\n",
        " \n",
        " \n",
        "uploaded = files.upload()"
      ]
    },
    {
      "cell_type": "markdown",
      "metadata": {
        "id": "zGMa8NVpvnnU"
      },
      "source": [
        "<a id='part4'></a>\n",
        "##  Part 4 - Pandas Basics [20 points]\n",
        "\n",
        "Some important resources:\n",
        "\n",
        "- [A Pandas guide](https://pandasguide.readthedocs.io/en/latest/) covers fundamental information about the package\n",
        "\n",
        "- [Pandas Cheat Sheet](https://www.datacamp.com/community/blog/python-pandas-cheat-sheet)"
      ]
    },
    {
      "cell_type": "code",
      "execution_count": 252,
      "metadata": {
        "id": "-JA6l-hpvnnU"
      },
      "outputs": [],
      "source": [
        "'''Install and import pandas library\n",
        "'''\n",
        "\n",
        "# BEGIN_YOUR_CODE\n",
        "import pandas as pd\n",
        "\n",
        "# END_YOUR_CODE"
      ]
    },
    {
      "cell_type": "code",
      "execution_count": 253,
      "metadata": {
        "colab": {
          "base_uri": "https://localhost:8080/"
        },
        "id": "vNYL_RNyvnnV",
        "outputId": "f85d7648-2ec6-4a7c-e0a3-ebdc0016c34f"
      },
      "outputs": [
        {
          "output_type": "stream",
          "name": "stdout",
          "text": [
            "        Museum ID                                        Museum Name  \\\n",
            "0      8400200098                    ALASKA AVIATION HERITAGE MUSEUM   \n",
            "1      8400200117                            ALASKA BOTANICAL GARDEN   \n",
            "2      8400200153  ALASKA CHALLENGER CENTER FOR SPACE SCIENCE TEC...   \n",
            "3      8400200143                ALASKA EDUCATORS HISTORICAL SOCIETY   \n",
            "4      8400200027                             ALASKA HERITAGE MUSEUM   \n",
            "...           ...                                                ...   \n",
            "33067  8405600184                   WYOMING STATE HISTORICAL SOCIETY   \n",
            "33068  8405600061                               WYOMING STATE MUSEUM   \n",
            "33069  8405600158      WYOMING TERRITORIAL PARK HISTORIC ASSOCIATION   \n",
            "33070  8405600137                      WYOMING TRANSPORTATION MUSEUM   \n",
            "33071  8405600199                          YELLOWSTONE NATIONAL PARK   \n",
            "\n",
            "                                              Legal Name Alternate Name  \\\n",
            "0                        ALASKA AVIATION HERITAGE MUSEUM            NaN   \n",
            "1                            ALASKA BOTANICAL GARDEN INC            NaN   \n",
            "2      ALASKA CHALLENGER CENTER FOR SPACE SCIENCE TEC...            NaN   \n",
            "3                    ALASKA EDUCATORS HISTORICAL SOCIETY            NaN   \n",
            "4                        ALASKA AVIATION HERITAGE MUSEUM            NaN   \n",
            "...                                                  ...            ...   \n",
            "33067                   WYOMING STATE HISTORICAL SOCIETY            NaN   \n",
            "33068                WYOMING STATE MUSEUM VOLUNTEERS INC            NaN   \n",
            "33069  WYOMING TERRITORIAL PARK HISTORIC ASSOCIATION INC            NaN   \n",
            "33070                 WYOMING TRANSPORTATION MUSEUM CORP            NaN   \n",
            "33071                  LITTLE PEOPLE LEARNING CENTER INC            NaN   \n",
            "\n",
            "                                         Museum Type Institution Name  \\\n",
            "0                                     HISTORY MUSEUM              NaN   \n",
            "1      ARBORETUM, BOTANICAL GARDEN, OR NATURE CENTER              NaN   \n",
            "2         SCIENCE & TECHNOLOGY MUSEUM OR PLANETARIUM              NaN   \n",
            "3                              HISTORIC PRESERVATION              NaN   \n",
            "4                                     HISTORY MUSEUM              NaN   \n",
            "...                                              ...              ...   \n",
            "33067                          HISTORIC PRESERVATION              NaN   \n",
            "33068                                 GENERAL MUSEUM              NaN   \n",
            "33069                          HISTORIC PRESERVATION              NaN   \n",
            "33070                                 HISTORY MUSEUM              NaN   \n",
            "33071                          HISTORIC PRESERVATION              NaN   \n",
            "\n",
            "      Street Address (Administrative Location) City (Administrative Location)  \\\n",
            "0                             4721 AIRCRAFT DR                      ANCHORAGE   \n",
            "1                    4601 CAMPBELL AIRSTRIP RD                      ANCHORAGE   \n",
            "2                          9711 KENAI SPUR HWY                          KENAI   \n",
            "3                             214 BIRCH STREET                          KENAI   \n",
            "4                   301 W NORTHERN LIGHTS BLVD                      ANCHORAGE   \n",
            "...                                        ...                            ...   \n",
            "33067                                PO BOX 73                       SHERIDAN   \n",
            "33068                      2301 CENTRAL AVENUE                       CHEYENNE   \n",
            "33069                   1273 N 15TH ST STE 121                        LARAMIE   \n",
            "33070                               PO BOX 704                       CHEYENNE   \n",
            "33071                    NATIONAL PARK SERVICE      YELLOWSTONE NATIONAL PARK   \n",
            "\n",
            "      State (Administrative Location) Zip Code (Administrative Location)  ...  \\\n",
            "0                                  AK                              99502  ...   \n",
            "1                                  AK                              99507  ...   \n",
            "2                                  AK                              99611  ...   \n",
            "3                                  AK                              99611  ...   \n",
            "4                                  AK                              99503  ...   \n",
            "...                               ...                                ...  ...   \n",
            "33067                              WY                              82801  ...   \n",
            "33068                              WY                              82001  ...   \n",
            "33069                              WY                              82072  ...   \n",
            "33070                              WY                              82003  ...   \n",
            "33071                              WY                              82190  ...   \n",
            "\n",
            "       Latitude  Longitude Locale Code (NCES)  County Code (FIPS)  \\\n",
            "0      61.17925 -149.97254                1.0                20.0   \n",
            "1      61.16890 -149.76708                4.0                20.0   \n",
            "2      60.56149 -151.21598                3.0               122.0   \n",
            "3      60.56280 -151.26597                3.0               122.0   \n",
            "4      61.17925 -149.97254                1.0                20.0   \n",
            "...         ...        ...                ...                 ...   \n",
            "33067  44.82345 -106.87592                4.0                33.0   \n",
            "33068  41.13941 -104.81813                1.0                21.0   \n",
            "33069  41.32276 -105.57686                3.0                 1.0   \n",
            "33070  41.13010 -104.81916                1.0                21.0   \n",
            "33071  44.91303 -110.41584                4.0                29.0   \n",
            "\n",
            "      State Code (FIPS)  Region Code (AAM)  Employer ID Number  Tax Period  \\\n",
            "0                   2.0                  6           920071852    201312.0   \n",
            "1                   2.0                  6           920115504    201312.0   \n",
            "2                   2.0                  6           921761906    201312.0   \n",
            "3                   2.0                  6           920165178    201412.0   \n",
            "4                   2.0                  6           920071852    201312.0   \n",
            "...                 ...                ...                 ...         ...   \n",
            "33067              56.0                  5         836007540.0         NaN   \n",
            "33068              56.0                  5         237368629.0    201404.0   \n",
            "33069              56.0                  5         830318392.0    201312.0   \n",
            "33070              56.0                  5         830295570.0    201309.0   \n",
            "33071              56.0                  5         830249072.0    201312.0   \n",
            "\n",
            "          Income    Revenue  \n",
            "0       602912.0   550236.0  \n",
            "1      1379576.0  1323742.0  \n",
            "2       740030.0   729080.0  \n",
            "3            0.0        0.0  \n",
            "4       602912.0   550236.0  \n",
            "...          ...        ...  \n",
            "33067        NaN        NaN  \n",
            "33068        0.0        0.0  \n",
            "33069   208508.0    83981.0  \n",
            "33070        0.0        0.0  \n",
            "33071   127496.0   126762.0  \n",
            "\n",
            "[33072 rows x 25 columns]\n"
          ]
        },
        {
          "output_type": "stream",
          "name": "stderr",
          "text": [
            "/usr/local/lib/python3.7/dist-packages/IPython/core/interactiveshell.py:2882: DtypeWarning: Columns (9,14,21) have mixed types.Specify dtype option on import or set low_memory=False.\n",
            "  exec(code_obj, self.user_global_ns, self.user_ns)\n"
          ]
        }
      ],
      "source": [
        "'''Read given 'DataFile' and extract into Dataframe\n",
        "'''\n",
        "\n",
        "# BEGIN_YOUR_CODE\n",
        "df = pd.read_csv('museums.csv')\n",
        "D_frame=pd.DataFrame(df)\n",
        "print(D_frame)\n",
        "# END_YOUR_CODE"
      ]
    },
    {
      "cell_type": "code",
      "execution_count": 254,
      "metadata": {
        "colab": {
          "base_uri": "https://localhost:8080/",
          "height": 379
        },
        "id": "nQhbLF7CvnnV",
        "outputId": "8a1f6dc9-761b-4ee9-ac98-8f87da5a1b12"
      },
      "outputs": [
        {
          "output_type": "execute_result",
          "data": {
            "text/plain": [
              "          Museum ID  Zip Code (Physical Location)      Latitude     Longitude  \\\n",
              "count  3.307200e+04                   9221.000000  33007.000000  33007.000000   \n",
              "mean   8.403812e+09                  47805.644616     38.925372    -90.816757   \n",
              "std    2.662542e+06                  30210.265032      5.126213     16.489087   \n",
              "min    8.400100e+09                   1002.000000      0.000000   -166.541260   \n",
              "25%    8.401801e+09                  20180.000000     35.567720    -97.651155   \n",
              "50%    8.403600e+09                  47448.000000     39.831640    -86.776840   \n",
              "75%    8.404801e+09                  74743.000000     42.237490    -77.616930   \n",
              "max    8.409504e+09                  99901.000000     70.669760      0.000000   \n",
              "\n",
              "       Locale Code (NCES)  County Code (FIPS)  State Code (FIPS)  \\\n",
              "count        32995.000000        30536.000000       33071.000000   \n",
              "mean             2.505834           85.701926          29.065828   \n",
              "std              1.211841          105.668318          15.431254   \n",
              "min              1.000000            1.000000           1.000000   \n",
              "25%              1.000000           25.000000          17.000000   \n",
              "50%              2.000000           61.000000          29.000000   \n",
              "75%              4.000000          109.000000          42.000000   \n",
              "max              4.000000          840.000000          90.000000   \n",
              "\n",
              "       Region Code (AAM)     Tax Period        Income       Revenue  \n",
              "count       33072.000000   23280.000000  2.296100e+04  2.229000e+04  \n",
              "mean            3.670083  201347.458548  1.069682e+08  2.097605e+07  \n",
              "std             1.539274      67.670742  2.509287e+09  2.485197e+08  \n",
              "min             1.000000  199906.000000 -9.230000e+02 -2.127393e+06  \n",
              "25%             2.000000  201312.000000  0.000000e+00  0.000000e+00  \n",
              "50%             4.000000  201312.000000  8.781000e+03  3.307000e+03  \n",
              "75%             5.000000  201408.000000  2.163770e+05  1.676960e+05  \n",
              "max             6.000000  201504.000000  8.318144e+10  5.840349e+09  "
            ],
            "text/html": [
              "\n",
              "  <div id=\"df-06403467-4b45-4163-b2d9-2e7f633d9805\">\n",
              "    <div class=\"colab-df-container\">\n",
              "      <div>\n",
              "<style scoped>\n",
              "    .dataframe tbody tr th:only-of-type {\n",
              "        vertical-align: middle;\n",
              "    }\n",
              "\n",
              "    .dataframe tbody tr th {\n",
              "        vertical-align: top;\n",
              "    }\n",
              "\n",
              "    .dataframe thead th {\n",
              "        text-align: right;\n",
              "    }\n",
              "</style>\n",
              "<table border=\"1\" class=\"dataframe\">\n",
              "  <thead>\n",
              "    <tr style=\"text-align: right;\">\n",
              "      <th></th>\n",
              "      <th>Museum ID</th>\n",
              "      <th>Zip Code (Physical Location)</th>\n",
              "      <th>Latitude</th>\n",
              "      <th>Longitude</th>\n",
              "      <th>Locale Code (NCES)</th>\n",
              "      <th>County Code (FIPS)</th>\n",
              "      <th>State Code (FIPS)</th>\n",
              "      <th>Region Code (AAM)</th>\n",
              "      <th>Tax Period</th>\n",
              "      <th>Income</th>\n",
              "      <th>Revenue</th>\n",
              "    </tr>\n",
              "  </thead>\n",
              "  <tbody>\n",
              "    <tr>\n",
              "      <th>count</th>\n",
              "      <td>3.307200e+04</td>\n",
              "      <td>9221.000000</td>\n",
              "      <td>33007.000000</td>\n",
              "      <td>33007.000000</td>\n",
              "      <td>32995.000000</td>\n",
              "      <td>30536.000000</td>\n",
              "      <td>33071.000000</td>\n",
              "      <td>33072.000000</td>\n",
              "      <td>23280.000000</td>\n",
              "      <td>2.296100e+04</td>\n",
              "      <td>2.229000e+04</td>\n",
              "    </tr>\n",
              "    <tr>\n",
              "      <th>mean</th>\n",
              "      <td>8.403812e+09</td>\n",
              "      <td>47805.644616</td>\n",
              "      <td>38.925372</td>\n",
              "      <td>-90.816757</td>\n",
              "      <td>2.505834</td>\n",
              "      <td>85.701926</td>\n",
              "      <td>29.065828</td>\n",
              "      <td>3.670083</td>\n",
              "      <td>201347.458548</td>\n",
              "      <td>1.069682e+08</td>\n",
              "      <td>2.097605e+07</td>\n",
              "    </tr>\n",
              "    <tr>\n",
              "      <th>std</th>\n",
              "      <td>2.662542e+06</td>\n",
              "      <td>30210.265032</td>\n",
              "      <td>5.126213</td>\n",
              "      <td>16.489087</td>\n",
              "      <td>1.211841</td>\n",
              "      <td>105.668318</td>\n",
              "      <td>15.431254</td>\n",
              "      <td>1.539274</td>\n",
              "      <td>67.670742</td>\n",
              "      <td>2.509287e+09</td>\n",
              "      <td>2.485197e+08</td>\n",
              "    </tr>\n",
              "    <tr>\n",
              "      <th>min</th>\n",
              "      <td>8.400100e+09</td>\n",
              "      <td>1002.000000</td>\n",
              "      <td>0.000000</td>\n",
              "      <td>-166.541260</td>\n",
              "      <td>1.000000</td>\n",
              "      <td>1.000000</td>\n",
              "      <td>1.000000</td>\n",
              "      <td>1.000000</td>\n",
              "      <td>199906.000000</td>\n",
              "      <td>-9.230000e+02</td>\n",
              "      <td>-2.127393e+06</td>\n",
              "    </tr>\n",
              "    <tr>\n",
              "      <th>25%</th>\n",
              "      <td>8.401801e+09</td>\n",
              "      <td>20180.000000</td>\n",
              "      <td>35.567720</td>\n",
              "      <td>-97.651155</td>\n",
              "      <td>1.000000</td>\n",
              "      <td>25.000000</td>\n",
              "      <td>17.000000</td>\n",
              "      <td>2.000000</td>\n",
              "      <td>201312.000000</td>\n",
              "      <td>0.000000e+00</td>\n",
              "      <td>0.000000e+00</td>\n",
              "    </tr>\n",
              "    <tr>\n",
              "      <th>50%</th>\n",
              "      <td>8.403600e+09</td>\n",
              "      <td>47448.000000</td>\n",
              "      <td>39.831640</td>\n",
              "      <td>-86.776840</td>\n",
              "      <td>2.000000</td>\n",
              "      <td>61.000000</td>\n",
              "      <td>29.000000</td>\n",
              "      <td>4.000000</td>\n",
              "      <td>201312.000000</td>\n",
              "      <td>8.781000e+03</td>\n",
              "      <td>3.307000e+03</td>\n",
              "    </tr>\n",
              "    <tr>\n",
              "      <th>75%</th>\n",
              "      <td>8.404801e+09</td>\n",
              "      <td>74743.000000</td>\n",
              "      <td>42.237490</td>\n",
              "      <td>-77.616930</td>\n",
              "      <td>4.000000</td>\n",
              "      <td>109.000000</td>\n",
              "      <td>42.000000</td>\n",
              "      <td>5.000000</td>\n",
              "      <td>201408.000000</td>\n",
              "      <td>2.163770e+05</td>\n",
              "      <td>1.676960e+05</td>\n",
              "    </tr>\n",
              "    <tr>\n",
              "      <th>max</th>\n",
              "      <td>8.409504e+09</td>\n",
              "      <td>99901.000000</td>\n",
              "      <td>70.669760</td>\n",
              "      <td>0.000000</td>\n",
              "      <td>4.000000</td>\n",
              "      <td>840.000000</td>\n",
              "      <td>90.000000</td>\n",
              "      <td>6.000000</td>\n",
              "      <td>201504.000000</td>\n",
              "      <td>8.318144e+10</td>\n",
              "      <td>5.840349e+09</td>\n",
              "    </tr>\n",
              "  </tbody>\n",
              "</table>\n",
              "</div>\n",
              "      <button class=\"colab-df-convert\" onclick=\"convertToInteractive('df-06403467-4b45-4163-b2d9-2e7f633d9805')\"\n",
              "              title=\"Convert this dataframe to an interactive table.\"\n",
              "              style=\"display:none;\">\n",
              "        \n",
              "  <svg xmlns=\"http://www.w3.org/2000/svg\" height=\"24px\"viewBox=\"0 0 24 24\"\n",
              "       width=\"24px\">\n",
              "    <path d=\"M0 0h24v24H0V0z\" fill=\"none\"/>\n",
              "    <path d=\"M18.56 5.44l.94 2.06.94-2.06 2.06-.94-2.06-.94-.94-2.06-.94 2.06-2.06.94zm-11 1L8.5 8.5l.94-2.06 2.06-.94-2.06-.94L8.5 2.5l-.94 2.06-2.06.94zm10 10l.94 2.06.94-2.06 2.06-.94-2.06-.94-.94-2.06-.94 2.06-2.06.94z\"/><path d=\"M17.41 7.96l-1.37-1.37c-.4-.4-.92-.59-1.43-.59-.52 0-1.04.2-1.43.59L10.3 9.45l-7.72 7.72c-.78.78-.78 2.05 0 2.83L4 21.41c.39.39.9.59 1.41.59.51 0 1.02-.2 1.41-.59l7.78-7.78 2.81-2.81c.8-.78.8-2.07 0-2.86zM5.41 20L4 18.59l7.72-7.72 1.47 1.35L5.41 20z\"/>\n",
              "  </svg>\n",
              "      </button>\n",
              "      \n",
              "  <style>\n",
              "    .colab-df-container {\n",
              "      display:flex;\n",
              "      flex-wrap:wrap;\n",
              "      gap: 12px;\n",
              "    }\n",
              "\n",
              "    .colab-df-convert {\n",
              "      background-color: #E8F0FE;\n",
              "      border: none;\n",
              "      border-radius: 50%;\n",
              "      cursor: pointer;\n",
              "      display: none;\n",
              "      fill: #1967D2;\n",
              "      height: 32px;\n",
              "      padding: 0 0 0 0;\n",
              "      width: 32px;\n",
              "    }\n",
              "\n",
              "    .colab-df-convert:hover {\n",
              "      background-color: #E2EBFA;\n",
              "      box-shadow: 0px 1px 2px rgba(60, 64, 67, 0.3), 0px 1px 3px 1px rgba(60, 64, 67, 0.15);\n",
              "      fill: #174EA6;\n",
              "    }\n",
              "\n",
              "    [theme=dark] .colab-df-convert {\n",
              "      background-color: #3B4455;\n",
              "      fill: #D2E3FC;\n",
              "    }\n",
              "\n",
              "    [theme=dark] .colab-df-convert:hover {\n",
              "      background-color: #434B5C;\n",
              "      box-shadow: 0px 1px 3px 1px rgba(0, 0, 0, 0.15);\n",
              "      filter: drop-shadow(0px 1px 2px rgba(0, 0, 0, 0.3));\n",
              "      fill: #FFFFFF;\n",
              "    }\n",
              "  </style>\n",
              "\n",
              "      <script>\n",
              "        const buttonEl =\n",
              "          document.querySelector('#df-06403467-4b45-4163-b2d9-2e7f633d9805 button.colab-df-convert');\n",
              "        buttonEl.style.display =\n",
              "          google.colab.kernel.accessAllowed ? 'block' : 'none';\n",
              "\n",
              "        async function convertToInteractive(key) {\n",
              "          const element = document.querySelector('#df-06403467-4b45-4163-b2d9-2e7f633d9805');\n",
              "          const dataTable =\n",
              "            await google.colab.kernel.invokeFunction('convertToInteractive',\n",
              "                                                     [key], {});\n",
              "          if (!dataTable) return;\n",
              "\n",
              "          const docLinkHtml = 'Like what you see? Visit the ' +\n",
              "            '<a target=\"_blank\" href=https://colab.research.google.com/notebooks/data_table.ipynb>data table notebook</a>'\n",
              "            + ' to learn more about interactive tables.';\n",
              "          element.innerHTML = '';\n",
              "          dataTable['output_type'] = 'display_data';\n",
              "          await google.colab.output.renderOutput(dataTable, element);\n",
              "          const docLink = document.createElement('div');\n",
              "          docLink.innerHTML = docLinkHtml;\n",
              "          element.appendChild(docLink);\n",
              "        }\n",
              "      </script>\n",
              "    </div>\n",
              "  </div>\n",
              "  "
            ]
          },
          "metadata": {},
          "execution_count": 254
        }
      ],
      "source": [
        "'''Provide the main statistics about the entries of the dataset (mean, std, etc.)\n",
        "'''\n",
        "# BEGIN_YOUR_CODE\n",
        "df.describe() #describes general stastistics\n",
        "# END_YOUR_CODE"
      ]
    },
    {
      "cell_type": "code",
      "source": [
        "df.info()"
      ],
      "metadata": {
        "colab": {
          "base_uri": "https://localhost:8080/"
        },
        "id": "ewmLEzWBzvjx",
        "outputId": "e2023ad4-b919-4c2d-98de-cb7152582ff0"
      },
      "execution_count": 255,
      "outputs": [
        {
          "output_type": "stream",
          "name": "stdout",
          "text": [
            "<class 'pandas.core.frame.DataFrame'>\n",
            "RangeIndex: 33072 entries, 0 to 33071\n",
            "Data columns (total 25 columns):\n",
            " #   Column                                    Non-Null Count  Dtype  \n",
            "---  ------                                    --------------  -----  \n",
            " 0   Museum ID                                 33072 non-null  int64  \n",
            " 1   Museum Name                               33072 non-null  object \n",
            " 2   Legal Name                                33072 non-null  object \n",
            " 3   Alternate Name                            1927 non-null   object \n",
            " 4   Museum Type                               33072 non-null  object \n",
            " 5   Institution Name                          2749 non-null   object \n",
            " 6   Street Address (Administrative Location)  33062 non-null  object \n",
            " 7   City (Administrative Location)            33072 non-null  object \n",
            " 8   State (Administrative Location)           33072 non-null  object \n",
            " 9   Zip Code (Administrative Location)        33072 non-null  object \n",
            " 10  Street Address (Physical Location)        9216 non-null   object \n",
            " 11  City (Physical Location)                  9223 non-null   object \n",
            " 12  State (Physical Location)                 9223 non-null   object \n",
            " 13  Zip Code (Physical Location)              9221 non-null   float64\n",
            " 14  Phone Number                              22932 non-null  object \n",
            " 15  Latitude                                  33007 non-null  float64\n",
            " 16  Longitude                                 33007 non-null  float64\n",
            " 17  Locale Code (NCES)                        32995 non-null  float64\n",
            " 18  County Code (FIPS)                        30536 non-null  float64\n",
            " 19  State Code (FIPS)                         33071 non-null  float64\n",
            " 20  Region Code (AAM)                         33072 non-null  int64  \n",
            " 21  Employer ID Number                        27554 non-null  object \n",
            " 22  Tax Period                                23280 non-null  float64\n",
            " 23  Income                                    22961 non-null  float64\n",
            " 24  Revenue                                   22290 non-null  float64\n",
            "dtypes: float64(9), int64(2), object(14)\n",
            "memory usage: 6.3+ MB\n"
          ]
        }
      ]
    },
    {
      "cell_type": "code",
      "execution_count": 256,
      "metadata": {
        "colab": {
          "base_uri": "https://localhost:8080/"
        },
        "id": "JnuZGhGwvnnW",
        "outputId": "6a3d548f-dea0-4cb1-afac-d21505ef4208"
      },
      "outputs": [
        {
          "output_type": "stream",
          "name": "stdout",
          "text": [
            "(33072, 25)\n"
          ]
        }
      ],
      "source": [
        "''' Print shape of the dataset '''\n",
        "\n",
        "# BEGIN_YOUR_CODE\n",
        "print(df.shape) #prints the shape of the dataset\n",
        "# END_YOUR_CODE"
      ]
    },
    {
      "cell_type": "code",
      "execution_count": 257,
      "metadata": {
        "colab": {
          "base_uri": "https://localhost:8080/"
        },
        "id": "nFWD5zl8vnne",
        "outputId": "a7c7a2b1-e8bb-4749-c4e2-4638a4ff9168"
      },
      "outputs": [
        {
          "output_type": "stream",
          "name": "stdout",
          "text": [
            "Index(['Museum ID', 'Museum Name', 'Legal Name', 'Alternate Name',\n",
            "       'Museum Type', 'Institution Name',\n",
            "       'Street Address (Administrative Location)',\n",
            "       'City (Administrative Location)', 'State (Administrative Location)',\n",
            "       'Zip Code (Administrative Location)',\n",
            "       'Street Address (Physical Location)', 'City (Physical Location)',\n",
            "       'State (Physical Location)', 'Zip Code (Physical Location)',\n",
            "       'Phone Number', 'Latitude', 'Longitude', 'Locale Code (NCES)',\n",
            "       'County Code (FIPS)', 'State Code (FIPS)', 'Region Code (AAM)',\n",
            "       'Employer ID Number', 'Tax Period', 'Income', 'Revenue'],\n",
            "      dtype='object')\n"
          ]
        }
      ],
      "source": [
        "''' Return all the colums names'''\n",
        "\n",
        "# BEGIN_YOUR_CODE\n",
        "print(df.columns) #prints all the columns of the dataset\n",
        "# END_YOUR_CODE"
      ]
    },
    {
      "cell_type": "code",
      "execution_count": 258,
      "metadata": {
        "colab": {
          "base_uri": "https://localhost:8080/"
        },
        "id": "6-1Dj0sGvnng",
        "outputId": "f87e66da-0af8-40ee-aa2d-dbc708521dc7"
      },
      "outputs": [
        {
          "output_type": "execute_result",
          "data": {
            "text/plain": [
              "0                                       HISTORY MUSEUM\n",
              "1        ARBORETUM, BOTANICAL GARDEN, OR NATURE CENTER\n",
              "2           SCIENCE & TECHNOLOGY MUSEUM OR PLANETARIUM\n",
              "3                                HISTORIC PRESERVATION\n",
              "4                                       HISTORY MUSEUM\n",
              "                             ...                      \n",
              "33067                            HISTORIC PRESERVATION\n",
              "33068                                   GENERAL MUSEUM\n",
              "33069                            HISTORIC PRESERVATION\n",
              "33070                                   HISTORY MUSEUM\n",
              "33071                            HISTORIC PRESERVATION\n",
              "Name: Museum Type, Length: 33072, dtype: object"
            ]
          },
          "metadata": {},
          "execution_count": 258
        }
      ],
      "source": [
        "''' Print a list of museums types '''\n",
        "\n",
        "# BEGIN_YOUR_CODE\n",
        "df['Museum Type'] #prints all the columns named museum type from the dataset\n",
        "# END_YOUR_CODE"
      ]
    },
    {
      "cell_type": "code",
      "execution_count": 259,
      "metadata": {
        "colab": {
          "base_uri": "https://localhost:8080/",
          "height": 1000
        },
        "id": "X6bjw1jRyUV2",
        "outputId": "115bd488-f5d5-4ba9-879d-1f25e60d0dbc"
      },
      "outputs": [
        {
          "output_type": "stream",
          "name": "stdout",
          "text": [
            "First 10 rows of the Dataset:\n"
          ]
        },
        {
          "output_type": "execute_result",
          "data": {
            "text/plain": [
              "    Museum ID                                        Museum Name  \\\n",
              "0  8400200098                    ALASKA AVIATION HERITAGE MUSEUM   \n",
              "1  8400200117                            ALASKA BOTANICAL GARDEN   \n",
              "2  8400200153  ALASKA CHALLENGER CENTER FOR SPACE SCIENCE TEC...   \n",
              "3  8400200143                ALASKA EDUCATORS HISTORICAL SOCIETY   \n",
              "4  8400200027                             ALASKA HERITAGE MUSEUM   \n",
              "5  8400200096                           ALASKA HISTORICAL MUSEUM   \n",
              "6  8400200078                               ALASKA JEWISH MUSEUM   \n",
              "7  8400200084                      ALASKA LIGHTHOUSE ASSOCIATION   \n",
              "8  8400200107       ALASKA MASONIC LIBRARY AND MUSEUM FOUNDATION   \n",
              "9  8400200073              ALASKA MINING HALL OF FAME FOUNDATION   \n",
              "\n",
              "                                          Legal Name Alternate Name  \\\n",
              "0                    ALASKA AVIATION HERITAGE MUSEUM            NaN   \n",
              "1                        ALASKA BOTANICAL GARDEN INC            NaN   \n",
              "2  ALASKA CHALLENGER CENTER FOR SPACE SCIENCE TEC...            NaN   \n",
              "3                ALASKA EDUCATORS HISTORICAL SOCIETY            NaN   \n",
              "4                    ALASKA AVIATION HERITAGE MUSEUM            NaN   \n",
              "5                       ALASKA HISTORICAL MUSEUM INC            NaN   \n",
              "6  ALASKA JEWISH HISTORICAL MUSEUM AND CULTURAL C...            NaN   \n",
              "7                      ALASKA LIGHTHOUSE ASSOCIATION            NaN   \n",
              "8       ALASKA MASONIC LIBRARY AND MUSEUM FOUNDATION            NaN   \n",
              "9              ALASKA MINING HALL OF FAME FOUNDATION            NaN   \n",
              "\n",
              "                                     Museum Type Institution Name  \\\n",
              "0                                 HISTORY MUSEUM              NaN   \n",
              "1  ARBORETUM, BOTANICAL GARDEN, OR NATURE CENTER              NaN   \n",
              "2     SCIENCE & TECHNOLOGY MUSEUM OR PLANETARIUM              NaN   \n",
              "3                          HISTORIC PRESERVATION              NaN   \n",
              "4                                 HISTORY MUSEUM              NaN   \n",
              "5                          HISTORIC PRESERVATION              NaN   \n",
              "6                                 GENERAL MUSEUM              NaN   \n",
              "7                          HISTORIC PRESERVATION              NaN   \n",
              "8                                 GENERAL MUSEUM              NaN   \n",
              "9                                 HISTORY MUSEUM              NaN   \n",
              "\n",
              "  Street Address (Administrative Location) City (Administrative Location)  \\\n",
              "0                         4721 AIRCRAFT DR                      ANCHORAGE   \n",
              "1                4601 CAMPBELL AIRSTRIP RD                      ANCHORAGE   \n",
              "2                      9711 KENAI SPUR HWY                          KENAI   \n",
              "3                         214 BIRCH STREET                          KENAI   \n",
              "4               301 W NORTHERN LIGHTS BLVD                      ANCHORAGE   \n",
              "5                           1675 E 5TH AVE                      ANCHORAGE   \n",
              "6                          1117 E 35TH AVE                      ANCHORAGE   \n",
              "7                            2116 B 2ND ST                        DOUGLAS   \n",
              "8                            PO BOX 190668                      ANCHORAGE   \n",
              "9                             PO BOX 81906                      FAIRBANKS   \n",
              "\n",
              "  State (Administrative Location) Zip Code (Administrative Location)  ...  \\\n",
              "0                              AK                              99502  ...   \n",
              "1                              AK                              99507  ...   \n",
              "2                              AK                              99611  ...   \n",
              "3                              AK                              99611  ...   \n",
              "4                              AK                              99503  ...   \n",
              "5                              AK                              99501  ...   \n",
              "6                              AK                              99508  ...   \n",
              "7                              AK                              99824  ...   \n",
              "8                              AK                              99519  ...   \n",
              "9                              AK                              99708  ...   \n",
              "\n",
              "   Latitude  Longitude Locale Code (NCES)  County Code (FIPS)  \\\n",
              "0  61.17925 -149.97254                1.0                20.0   \n",
              "1  61.16890 -149.76708                4.0                20.0   \n",
              "2  60.56149 -151.21598                3.0               122.0   \n",
              "3  60.56280 -151.26597                3.0               122.0   \n",
              "4  61.17925 -149.97254                1.0                20.0   \n",
              "5  61.21785 -149.85049                1.0                20.0   \n",
              "6  61.18946 -149.86071                1.0                20.0   \n",
              "7  58.28299 -134.40583                3.0               110.0   \n",
              "8  61.21833 -149.89456                1.0                20.0   \n",
              "9  64.85079 -147.82945                2.0                90.0   \n",
              "\n",
              "  State Code (FIPS)  Region Code (AAM)  Employer ID Number  Tax Period  \\\n",
              "0               2.0                  6           920071852    201312.0   \n",
              "1               2.0                  6           920115504    201312.0   \n",
              "2               2.0                  6           921761906    201312.0   \n",
              "3               2.0                  6           920165178    201412.0   \n",
              "4               2.0                  6           920071852    201312.0   \n",
              "5               2.0                  6           920062352         NaN   \n",
              "6               2.0                  6           711010049    201312.0   \n",
              "7               2.0                  6           911833974    201312.0   \n",
              "8               2.0                  6           920095561    201406.0   \n",
              "9               2.0                  6           550819611    201412.0   \n",
              "\n",
              "      Income    Revenue  \n",
              "0   602912.0   550236.0  \n",
              "1  1379576.0  1323742.0  \n",
              "2   740030.0   729080.0  \n",
              "3        0.0        0.0  \n",
              "4   602912.0   550236.0  \n",
              "5        NaN        NaN  \n",
              "6  2658938.0    34374.0  \n",
              "7    16500.0    16500.0  \n",
              "8        0.0        0.0  \n",
              "9   184295.0    31393.0  \n",
              "\n",
              "[10 rows x 25 columns]"
            ],
            "text/html": [
              "\n",
              "  <div id=\"df-a28c7be8-64ee-4216-9811-6cb09f207aaa\">\n",
              "    <div class=\"colab-df-container\">\n",
              "      <div>\n",
              "<style scoped>\n",
              "    .dataframe tbody tr th:only-of-type {\n",
              "        vertical-align: middle;\n",
              "    }\n",
              "\n",
              "    .dataframe tbody tr th {\n",
              "        vertical-align: top;\n",
              "    }\n",
              "\n",
              "    .dataframe thead th {\n",
              "        text-align: right;\n",
              "    }\n",
              "</style>\n",
              "<table border=\"1\" class=\"dataframe\">\n",
              "  <thead>\n",
              "    <tr style=\"text-align: right;\">\n",
              "      <th></th>\n",
              "      <th>Museum ID</th>\n",
              "      <th>Museum Name</th>\n",
              "      <th>Legal Name</th>\n",
              "      <th>Alternate Name</th>\n",
              "      <th>Museum Type</th>\n",
              "      <th>Institution Name</th>\n",
              "      <th>Street Address (Administrative Location)</th>\n",
              "      <th>City (Administrative Location)</th>\n",
              "      <th>State (Administrative Location)</th>\n",
              "      <th>Zip Code (Administrative Location)</th>\n",
              "      <th>...</th>\n",
              "      <th>Latitude</th>\n",
              "      <th>Longitude</th>\n",
              "      <th>Locale Code (NCES)</th>\n",
              "      <th>County Code (FIPS)</th>\n",
              "      <th>State Code (FIPS)</th>\n",
              "      <th>Region Code (AAM)</th>\n",
              "      <th>Employer ID Number</th>\n",
              "      <th>Tax Period</th>\n",
              "      <th>Income</th>\n",
              "      <th>Revenue</th>\n",
              "    </tr>\n",
              "  </thead>\n",
              "  <tbody>\n",
              "    <tr>\n",
              "      <th>0</th>\n",
              "      <td>8400200098</td>\n",
              "      <td>ALASKA AVIATION HERITAGE MUSEUM</td>\n",
              "      <td>ALASKA AVIATION HERITAGE MUSEUM</td>\n",
              "      <td>NaN</td>\n",
              "      <td>HISTORY MUSEUM</td>\n",
              "      <td>NaN</td>\n",
              "      <td>4721 AIRCRAFT DR</td>\n",
              "      <td>ANCHORAGE</td>\n",
              "      <td>AK</td>\n",
              "      <td>99502</td>\n",
              "      <td>...</td>\n",
              "      <td>61.17925</td>\n",
              "      <td>-149.97254</td>\n",
              "      <td>1.0</td>\n",
              "      <td>20.0</td>\n",
              "      <td>2.0</td>\n",
              "      <td>6</td>\n",
              "      <td>920071852</td>\n",
              "      <td>201312.0</td>\n",
              "      <td>602912.0</td>\n",
              "      <td>550236.0</td>\n",
              "    </tr>\n",
              "    <tr>\n",
              "      <th>1</th>\n",
              "      <td>8400200117</td>\n",
              "      <td>ALASKA BOTANICAL GARDEN</td>\n",
              "      <td>ALASKA BOTANICAL GARDEN INC</td>\n",
              "      <td>NaN</td>\n",
              "      <td>ARBORETUM, BOTANICAL GARDEN, OR NATURE CENTER</td>\n",
              "      <td>NaN</td>\n",
              "      <td>4601 CAMPBELL AIRSTRIP RD</td>\n",
              "      <td>ANCHORAGE</td>\n",
              "      <td>AK</td>\n",
              "      <td>99507</td>\n",
              "      <td>...</td>\n",
              "      <td>61.16890</td>\n",
              "      <td>-149.76708</td>\n",
              "      <td>4.0</td>\n",
              "      <td>20.0</td>\n",
              "      <td>2.0</td>\n",
              "      <td>6</td>\n",
              "      <td>920115504</td>\n",
              "      <td>201312.0</td>\n",
              "      <td>1379576.0</td>\n",
              "      <td>1323742.0</td>\n",
              "    </tr>\n",
              "    <tr>\n",
              "      <th>2</th>\n",
              "      <td>8400200153</td>\n",
              "      <td>ALASKA CHALLENGER CENTER FOR SPACE SCIENCE TEC...</td>\n",
              "      <td>ALASKA CHALLENGER CENTER FOR SPACE SCIENCE TEC...</td>\n",
              "      <td>NaN</td>\n",
              "      <td>SCIENCE &amp; TECHNOLOGY MUSEUM OR PLANETARIUM</td>\n",
              "      <td>NaN</td>\n",
              "      <td>9711 KENAI SPUR HWY</td>\n",
              "      <td>KENAI</td>\n",
              "      <td>AK</td>\n",
              "      <td>99611</td>\n",
              "      <td>...</td>\n",
              "      <td>60.56149</td>\n",
              "      <td>-151.21598</td>\n",
              "      <td>3.0</td>\n",
              "      <td>122.0</td>\n",
              "      <td>2.0</td>\n",
              "      <td>6</td>\n",
              "      <td>921761906</td>\n",
              "      <td>201312.0</td>\n",
              "      <td>740030.0</td>\n",
              "      <td>729080.0</td>\n",
              "    </tr>\n",
              "    <tr>\n",
              "      <th>3</th>\n",
              "      <td>8400200143</td>\n",
              "      <td>ALASKA EDUCATORS HISTORICAL SOCIETY</td>\n",
              "      <td>ALASKA EDUCATORS HISTORICAL SOCIETY</td>\n",
              "      <td>NaN</td>\n",
              "      <td>HISTORIC PRESERVATION</td>\n",
              "      <td>NaN</td>\n",
              "      <td>214 BIRCH STREET</td>\n",
              "      <td>KENAI</td>\n",
              "      <td>AK</td>\n",
              "      <td>99611</td>\n",
              "      <td>...</td>\n",
              "      <td>60.56280</td>\n",
              "      <td>-151.26597</td>\n",
              "      <td>3.0</td>\n",
              "      <td>122.0</td>\n",
              "      <td>2.0</td>\n",
              "      <td>6</td>\n",
              "      <td>920165178</td>\n",
              "      <td>201412.0</td>\n",
              "      <td>0.0</td>\n",
              "      <td>0.0</td>\n",
              "    </tr>\n",
              "    <tr>\n",
              "      <th>4</th>\n",
              "      <td>8400200027</td>\n",
              "      <td>ALASKA HERITAGE MUSEUM</td>\n",
              "      <td>ALASKA AVIATION HERITAGE MUSEUM</td>\n",
              "      <td>NaN</td>\n",
              "      <td>HISTORY MUSEUM</td>\n",
              "      <td>NaN</td>\n",
              "      <td>301 W NORTHERN LIGHTS BLVD</td>\n",
              "      <td>ANCHORAGE</td>\n",
              "      <td>AK</td>\n",
              "      <td>99503</td>\n",
              "      <td>...</td>\n",
              "      <td>61.17925</td>\n",
              "      <td>-149.97254</td>\n",
              "      <td>1.0</td>\n",
              "      <td>20.0</td>\n",
              "      <td>2.0</td>\n",
              "      <td>6</td>\n",
              "      <td>920071852</td>\n",
              "      <td>201312.0</td>\n",
              "      <td>602912.0</td>\n",
              "      <td>550236.0</td>\n",
              "    </tr>\n",
              "    <tr>\n",
              "      <th>5</th>\n",
              "      <td>8400200096</td>\n",
              "      <td>ALASKA HISTORICAL MUSEUM</td>\n",
              "      <td>ALASKA HISTORICAL MUSEUM INC</td>\n",
              "      <td>NaN</td>\n",
              "      <td>HISTORIC PRESERVATION</td>\n",
              "      <td>NaN</td>\n",
              "      <td>1675 E 5TH AVE</td>\n",
              "      <td>ANCHORAGE</td>\n",
              "      <td>AK</td>\n",
              "      <td>99501</td>\n",
              "      <td>...</td>\n",
              "      <td>61.21785</td>\n",
              "      <td>-149.85049</td>\n",
              "      <td>1.0</td>\n",
              "      <td>20.0</td>\n",
              "      <td>2.0</td>\n",
              "      <td>6</td>\n",
              "      <td>920062352</td>\n",
              "      <td>NaN</td>\n",
              "      <td>NaN</td>\n",
              "      <td>NaN</td>\n",
              "    </tr>\n",
              "    <tr>\n",
              "      <th>6</th>\n",
              "      <td>8400200078</td>\n",
              "      <td>ALASKA JEWISH MUSEUM</td>\n",
              "      <td>ALASKA JEWISH HISTORICAL MUSEUM AND CULTURAL C...</td>\n",
              "      <td>NaN</td>\n",
              "      <td>GENERAL MUSEUM</td>\n",
              "      <td>NaN</td>\n",
              "      <td>1117 E 35TH AVE</td>\n",
              "      <td>ANCHORAGE</td>\n",
              "      <td>AK</td>\n",
              "      <td>99508</td>\n",
              "      <td>...</td>\n",
              "      <td>61.18946</td>\n",
              "      <td>-149.86071</td>\n",
              "      <td>1.0</td>\n",
              "      <td>20.0</td>\n",
              "      <td>2.0</td>\n",
              "      <td>6</td>\n",
              "      <td>711010049</td>\n",
              "      <td>201312.0</td>\n",
              "      <td>2658938.0</td>\n",
              "      <td>34374.0</td>\n",
              "    </tr>\n",
              "    <tr>\n",
              "      <th>7</th>\n",
              "      <td>8400200084</td>\n",
              "      <td>ALASKA LIGHTHOUSE ASSOCIATION</td>\n",
              "      <td>ALASKA LIGHTHOUSE ASSOCIATION</td>\n",
              "      <td>NaN</td>\n",
              "      <td>HISTORIC PRESERVATION</td>\n",
              "      <td>NaN</td>\n",
              "      <td>2116 B 2ND ST</td>\n",
              "      <td>DOUGLAS</td>\n",
              "      <td>AK</td>\n",
              "      <td>99824</td>\n",
              "      <td>...</td>\n",
              "      <td>58.28299</td>\n",
              "      <td>-134.40583</td>\n",
              "      <td>3.0</td>\n",
              "      <td>110.0</td>\n",
              "      <td>2.0</td>\n",
              "      <td>6</td>\n",
              "      <td>911833974</td>\n",
              "      <td>201312.0</td>\n",
              "      <td>16500.0</td>\n",
              "      <td>16500.0</td>\n",
              "    </tr>\n",
              "    <tr>\n",
              "      <th>8</th>\n",
              "      <td>8400200107</td>\n",
              "      <td>ALASKA MASONIC LIBRARY AND MUSEUM FOUNDATION</td>\n",
              "      <td>ALASKA MASONIC LIBRARY AND MUSEUM FOUNDATION</td>\n",
              "      <td>NaN</td>\n",
              "      <td>GENERAL MUSEUM</td>\n",
              "      <td>NaN</td>\n",
              "      <td>PO BOX 190668</td>\n",
              "      <td>ANCHORAGE</td>\n",
              "      <td>AK</td>\n",
              "      <td>99519</td>\n",
              "      <td>...</td>\n",
              "      <td>61.21833</td>\n",
              "      <td>-149.89456</td>\n",
              "      <td>1.0</td>\n",
              "      <td>20.0</td>\n",
              "      <td>2.0</td>\n",
              "      <td>6</td>\n",
              "      <td>920095561</td>\n",
              "      <td>201406.0</td>\n",
              "      <td>0.0</td>\n",
              "      <td>0.0</td>\n",
              "    </tr>\n",
              "    <tr>\n",
              "      <th>9</th>\n",
              "      <td>8400200073</td>\n",
              "      <td>ALASKA MINING HALL OF FAME FOUNDATION</td>\n",
              "      <td>ALASKA MINING HALL OF FAME FOUNDATION</td>\n",
              "      <td>NaN</td>\n",
              "      <td>HISTORY MUSEUM</td>\n",
              "      <td>NaN</td>\n",
              "      <td>PO BOX 81906</td>\n",
              "      <td>FAIRBANKS</td>\n",
              "      <td>AK</td>\n",
              "      <td>99708</td>\n",
              "      <td>...</td>\n",
              "      <td>64.85079</td>\n",
              "      <td>-147.82945</td>\n",
              "      <td>2.0</td>\n",
              "      <td>90.0</td>\n",
              "      <td>2.0</td>\n",
              "      <td>6</td>\n",
              "      <td>550819611</td>\n",
              "      <td>201412.0</td>\n",
              "      <td>184295.0</td>\n",
              "      <td>31393.0</td>\n",
              "    </tr>\n",
              "  </tbody>\n",
              "</table>\n",
              "<p>10 rows × 25 columns</p>\n",
              "</div>\n",
              "      <button class=\"colab-df-convert\" onclick=\"convertToInteractive('df-a28c7be8-64ee-4216-9811-6cb09f207aaa')\"\n",
              "              title=\"Convert this dataframe to an interactive table.\"\n",
              "              style=\"display:none;\">\n",
              "        \n",
              "  <svg xmlns=\"http://www.w3.org/2000/svg\" height=\"24px\"viewBox=\"0 0 24 24\"\n",
              "       width=\"24px\">\n",
              "    <path d=\"M0 0h24v24H0V0z\" fill=\"none\"/>\n",
              "    <path d=\"M18.56 5.44l.94 2.06.94-2.06 2.06-.94-2.06-.94-.94-2.06-.94 2.06-2.06.94zm-11 1L8.5 8.5l.94-2.06 2.06-.94-2.06-.94L8.5 2.5l-.94 2.06-2.06.94zm10 10l.94 2.06.94-2.06 2.06-.94-2.06-.94-.94-2.06-.94 2.06-2.06.94z\"/><path d=\"M17.41 7.96l-1.37-1.37c-.4-.4-.92-.59-1.43-.59-.52 0-1.04.2-1.43.59L10.3 9.45l-7.72 7.72c-.78.78-.78 2.05 0 2.83L4 21.41c.39.39.9.59 1.41.59.51 0 1.02-.2 1.41-.59l7.78-7.78 2.81-2.81c.8-.78.8-2.07 0-2.86zM5.41 20L4 18.59l7.72-7.72 1.47 1.35L5.41 20z\"/>\n",
              "  </svg>\n",
              "      </button>\n",
              "      \n",
              "  <style>\n",
              "    .colab-df-container {\n",
              "      display:flex;\n",
              "      flex-wrap:wrap;\n",
              "      gap: 12px;\n",
              "    }\n",
              "\n",
              "    .colab-df-convert {\n",
              "      background-color: #E8F0FE;\n",
              "      border: none;\n",
              "      border-radius: 50%;\n",
              "      cursor: pointer;\n",
              "      display: none;\n",
              "      fill: #1967D2;\n",
              "      height: 32px;\n",
              "      padding: 0 0 0 0;\n",
              "      width: 32px;\n",
              "    }\n",
              "\n",
              "    .colab-df-convert:hover {\n",
              "      background-color: #E2EBFA;\n",
              "      box-shadow: 0px 1px 2px rgba(60, 64, 67, 0.3), 0px 1px 3px 1px rgba(60, 64, 67, 0.15);\n",
              "      fill: #174EA6;\n",
              "    }\n",
              "\n",
              "    [theme=dark] .colab-df-convert {\n",
              "      background-color: #3B4455;\n",
              "      fill: #D2E3FC;\n",
              "    }\n",
              "\n",
              "    [theme=dark] .colab-df-convert:hover {\n",
              "      background-color: #434B5C;\n",
              "      box-shadow: 0px 1px 3px 1px rgba(0, 0, 0, 0.15);\n",
              "      filter: drop-shadow(0px 1px 2px rgba(0, 0, 0, 0.3));\n",
              "      fill: #FFFFFF;\n",
              "    }\n",
              "  </style>\n",
              "\n",
              "      <script>\n",
              "        const buttonEl =\n",
              "          document.querySelector('#df-a28c7be8-64ee-4216-9811-6cb09f207aaa button.colab-df-convert');\n",
              "        buttonEl.style.display =\n",
              "          google.colab.kernel.accessAllowed ? 'block' : 'none';\n",
              "\n",
              "        async function convertToInteractive(key) {\n",
              "          const element = document.querySelector('#df-a28c7be8-64ee-4216-9811-6cb09f207aaa');\n",
              "          const dataTable =\n",
              "            await google.colab.kernel.invokeFunction('convertToInteractive',\n",
              "                                                     [key], {});\n",
              "          if (!dataTable) return;\n",
              "\n",
              "          const docLinkHtml = 'Like what you see? Visit the ' +\n",
              "            '<a target=\"_blank\" href=https://colab.research.google.com/notebooks/data_table.ipynb>data table notebook</a>'\n",
              "            + ' to learn more about interactive tables.';\n",
              "          element.innerHTML = '';\n",
              "          dataTable['output_type'] = 'display_data';\n",
              "          await google.colab.output.renderOutput(dataTable, element);\n",
              "          const docLink = document.createElement('div');\n",
              "          docLink.innerHTML = docLinkHtml;\n",
              "          element.appendChild(docLink);\n",
              "        }\n",
              "      </script>\n",
              "    </div>\n",
              "  </div>\n",
              "  "
            ]
          },
          "metadata": {},
          "execution_count": 259
        }
      ],
      "source": [
        "'''Print top 10 rows of the dataset'''\n",
        "\n",
        "# BEGIN_YOUR_CODE\n",
        "result = df.head(10)\n",
        "print(\"First 10 rows of the Dataset:\")\n",
        "result\n",
        "# END_YOUR_CODE"
      ]
    },
    {
      "cell_type": "markdown",
      "metadata": {
        "id": "YNq5ppEGvnnh"
      },
      "source": [
        "<a id='part5'></a>\n",
        "## Matplotlib Basics [20 points]"
      ]
    },
    {
      "cell_type": "markdown",
      "metadata": {
        "id": "MyidlhZlIPa2"
      },
      "source": [
        "Heatmaps are a useful plot tool which help us visualize the data density or distribution. Refer the below documentation for more details on heatmap.\n",
        "\n",
        "[Matplotlib tutorial](https://machinelearningknowledge.ai/matplotlib-heatmap-complete-tutorial-for-beginners/)\n",
        "\n",
        "**Note:** You can only use matplotlib library for the following tasks"
      ]
    },
    {
      "cell_type": "code",
      "execution_count": 260,
      "metadata": {
        "id": "bfFqEdGEvnnh"
      },
      "outputs": [],
      "source": [
        "''' Install and import matplotlib library\n",
        "'''\n",
        "\n",
        "# BEGIN_YOUR_CODE\n",
        "import numpy as np\n",
        "\n",
        "import matplotlib.pyplot as plt\n",
        "%matplotlib inline\n",
        "# END_YOUR_CODE"
      ]
    },
    {
      "cell_type": "code",
      "execution_count": 261,
      "metadata": {
        "colab": {
          "base_uri": "https://localhost:8080/",
          "height": 281
        },
        "id": "25-jR3OHstb_",
        "outputId": "c10b1cbd-1e2f-4329-ca2d-8b27905ec066"
      },
      "outputs": [
        {
          "output_type": "display_data",
          "data": {
            "text/plain": [
              "<Figure size 432x288 with 1 Axes>"
            ],
            "image/png": "[encoded data removed]"
          },
          "metadata": {
            "needs_background": "light"
          }
        }
      ],
      "source": [
        "''' Heatmap\n",
        "Take any random numpy array of dimension 10x15 and plot a heatmap\n",
        "'''\n",
        "\n",
        "# BEGIN YOUR CODE\n",
        "a = np.random.random(( 10 , 15 )) #creates a  random numpy array of dimension 10x15\n",
        "plt.imshow( a , cmap=\"summer\") #plots the array\n",
        "  \n",
        "plt.title( \"2-D Heat Map\" ) #describes the title for the plot\n",
        "plt.show() #displays the plot\n",
        "# END YOUR CODE"
      ]
    },
    {
      "cell_type": "code",
      "execution_count": 262,
      "metadata": {
        "id": "VD6WIdUU4-PA",
        "colab": {
          "base_uri": "https://localhost:8080/",
          "height": 312
        },
        "outputId": "fa757dde-7fdf-42b4-95f0-f41834ba0a7b"
      },
      "outputs": [
        {
          "output_type": "execute_result",
          "data": {
            "text/plain": [
              "Text(0, 0.5, 'Y-axis')"
            ]
          },
          "metadata": {},
          "execution_count": 262
        },
        {
          "output_type": "display_data",
          "data": {
            "text/plain": [
              "<Figure size 432x288 with 1 Axes>"
            ],
            "image/png": "[encoded data removed]"
          },
          "metadata": {
            "needs_background": "light"
          }
        }
      ],
      "source": [
        "'''For the given value x plot the function y = 1/x using list comprehension on y.\n",
        "You can check https://docs.python.org/3/tutorial/datastructures.html#list-comprehensions to learn how to use list comprehension\n",
        "'''\n",
        "\n",
        "x = range(1,25)\n",
        "\n",
        "# BEGIN YOUR CODE\n",
        "Y = [1/x for x in range(1,25)]\n",
        "plt.plot(Y, 'k',color='g') \n",
        "plt.title(\"Inverse functon plot (Y=1/X)\") #labels the title of the plot\n",
        "plt.xlabel(\"X-axis\") #labels x axis\n",
        "plt.ylabel(\"Y-axis\")#labels y axis\n",
        "# END YOUR CODE"
      ]
    },
    {
      "cell_type": "code",
      "execution_count": 263,
      "metadata": {
        "id": "GB4uqfd8K495",
        "colab": {
          "base_uri": "https://localhost:8080/",
          "height": 330
        },
        "outputId": "66f6944b-8cd4-42d0-818a-0af0d8d179b3"
      },
      "outputs": [
        {
          "output_type": "stream",
          "name": "stdout",
          "text": [
            "[0, 1, 4, 9, 16, 25, 36, 49, 64, 81, 100, 121, 144, 169, 196, 225, 256, 289, 324, 361, 400, 441, 484, 529, 576]\n"
          ]
        },
        {
          "output_type": "execute_result",
          "data": {
            "text/plain": [
              "Text(0, 0.5, 'Y-axis')"
            ]
          },
          "metadata": {},
          "execution_count": 263
        },
        {
          "output_type": "display_data",
          "data": {
            "text/plain": [
              "<Figure size 432x288 with 1 Axes>"
            ],
            "image/png": "[encoded data removed]"
          },
          "metadata": {
            "needs_background": "light"
          }
        }
      ],
      "source": [
        "'''For the given value x plot the function y = x^2 using lambda function y.\n",
        "\n",
        "Lambda function is a small anonymous function which consist of a single expression, and is usually used when we need the function for a smaller duration\n",
        "https://realpython.com/python-lambda/\n",
        "'''\n",
        "\n",
        "x = range(25)\n",
        "\n",
        "# BEGIN YOUR CODE\n",
        "m=list(map(lambda i: i**2, x))\n",
        "print(m)\n",
        "\n",
        "plt.plot(m, 'k',color='b') \n",
        "plt.title(\"square function plot(Y=X^2)\") #labels the title of the plot\n",
        "plt.xlabel(\"X-axis\") #labels x axis\n",
        "plt.ylabel(\"Y-axis\")#labels y axis\n",
        "# END YOUR CODE\n"
      ]
    },
    {
      "cell_type": "code",
      "execution_count": 264,
      "metadata": {
        "id": "SdwnE73hyUV3",
        "colab": {
          "base_uri": "https://localhost:8080/",
          "height": 347
        },
        "outputId": "f8d09d87-5f89-4365-e390-773541baffd3"
      },
      "outputs": [
        {
          "output_type": "stream",
          "name": "stdout",
          "text": [
            "[0, 1, 4, 9, 16, 25, 36, 49, 64, 81, 100, 121, 144, 169, 196, 225, 256, 289, 324, 361, 400, 441, 484, 529, 576]\n",
            "[0, 1, 8, 27, 64, 125, 216, 343, 512, 729, 1000, 1331, 1728, 2197, 2744, 3375, 4096, 4913, 5832, 6859, 8000, 9261, 10648, 12167, 13824]\n"
          ]
        },
        {
          "output_type": "execute_result",
          "data": {
            "text/plain": [
              "Text(0, 0.5, 'y')"
            ]
          },
          "metadata": {},
          "execution_count": 264
        },
        {
          "output_type": "display_data",
          "data": {
            "text/plain": [
              "<Figure size 432x288 with 1 Axes>"
            ],
            "image/png": "[encoded data removed]"
          },
          "metadata": {
            "needs_background": "light"
          }
        }
      ],
      "source": [
        "'''On one graph draw two lines:\n",
        "1) Plot the function y = x^2 using lambda function y (use your code from above)\n",
        "2) A scatter plot for y = x^3 using either list comprehension or lambda function for evaluating y\n",
        "'''\n",
        "\n",
        "x = range(25)\n",
        "\n",
        "# BEGIN YOUR CODE\n",
        "m=list(map(lambda i: i**2, x))\n",
        "print(m)\n",
        "\n",
        "plt.plot(m, 'k*:',color='b') \n",
        "plt.title(\"square function plot\") #labels the title of the plot\n",
        "plt.xlabel(\"x\") #labels x axis\n",
        "plt.ylabel(\"y\")#labels y \n",
        "\n",
        "l=list(map(lambda i: i**3, x))\n",
        "print(l) #function stores output of each repetition of sequence inverse in for loop\n",
        "\n",
        "plt.scatter(x,l,color='r')\n",
        "plt.title(\"inverse functon plot\") #labels the title of the plot\n",
        "plt.xlabel(\"x\") #labels x axis\n",
        "plt.ylabel(\"y\")#labels y axis\n",
        "# END YOUR CODE"
      ]
    },
    {
      "cell_type": "code",
      "execution_count": 265,
      "metadata": {
        "id": "AEbDCKYH7UfV",
        "colab": {
          "base_uri": "https://localhost:8080/",
          "height": 298
        },
        "outputId": "4bbbe381-bc30-417f-f3e6-afcc96b99748"
      },
      "outputs": [
        {
          "output_type": "execute_result",
          "data": {
            "text/plain": [
              "Text(0.5, 1.0, 'Cot function')"
            ]
          },
          "metadata": {},
          "execution_count": 265
        },
        {
          "output_type": "display_data",
          "data": {
            "text/plain": [
              "<Figure size 432x288 with 2 Axes>"
            ],
            "image/png": "[encoded data removed]"
          },
          "metadata": {
            "needs_background": "light"
          }
        }
      ],
      "source": [
        "'''create subplots showing graphs of tan and cot side by side of each other\n",
        "the value of theta ranges from -30 to 30\n",
        "\n",
        "HINT: You might want to utilize np.linespace() or np.arrange() to create smooth curves\n",
        "'''\n",
        "\n",
        "import math\n",
        "\n",
        "# BEGIN YOUR CODE\n",
        "function,(ax1,ax2) = plt.subplots(1,2) #creates two subplot\n",
        "x=np.linspace(-30,30, num=10) #\n",
        "\n",
        "y=np.tan(x) \n",
        "z=1/np.tan(x)\n",
        "ax1.plot(x,y)\n",
        "ax1.set_title('Tan function')\n",
        "\n",
        "ax2.plot(x,z)\n",
        "ax2.set_title('Cot function')\n",
        "# END YOUR CODE"
      ]
    },
    {
      "cell_type": "code",
      "execution_count": 266,
      "metadata": {
        "id": "sUwyiQIpyUV4",
        "colab": {
          "base_uri": "https://localhost:8080/",
          "height": 312
        },
        "outputId": "e432781f-1183-4b0c-e53f-cc0cbed2e83f"
      },
      "outputs": [
        {
          "output_type": "execute_result",
          "data": {
            "text/plain": [
              "[<matplotlib.lines.Line2D at 0x7f375498b050>]"
            ]
          },
          "metadata": {},
          "execution_count": 266
        },
        {
          "output_type": "display_data",
          "data": {
            "text/plain": [
              "<Figure size 432x288 with 1 Axes>"
            ],
            "image/png": "[encoded data removed]"
          },
          "metadata": {
            "needs_background": "light"
          }
        }
      ],
      "source": [
        "from pyparsing.util import line\n",
        "'''Draw a line for given GPAs of students [3.5, 2.3, 1.5 3.8, 2.4, 2.9, 3.3] using markers\n",
        "'''\n",
        "\n",
        "# BEGIN_YOUR_CODE\n",
        "GPA=[3.5, 2.3, 1.5, 3.8, 2.4, 2.9, 3.3] \n",
        "plt.title(\"GPAs\") #labels the title of the plot\n",
        "plt.xlabel(\"Student\") #labels x axis\n",
        "plt.ylabel(\"Respective GPAs\")#labels y axis\n",
        "plt.plot(GPA, 'k*:',color='b') #plots the list of Gpa using marker * and line style :\n",
        "# END_YOUR_CODE"
      ]
    },
    {
      "cell_type": "code",
      "execution_count": 267,
      "metadata": {
        "id": "CmTFIDbYyUV4",
        "colab": {
          "base_uri": "https://localhost:8080/",
          "height": 1000
        },
        "outputId": "8e3d4051-2f21-40db-d2b8-3c3de18ba07f"
      },
      "outputs": [
        {
          "output_type": "stream",
          "name": "stdout",
          "text": [
            "HISTORIC PRESERVATION                            14861\n",
            "GENERAL MUSEUM                                    8699\n",
            "ART MUSEUM                                        3241\n",
            "HISTORY MUSEUM                                    2284\n",
            "ARBORETUM, BOTANICAL GARDEN, OR NATURE CENTER     1484\n",
            "SCIENCE & TECHNOLOGY MUSEUM OR PLANETARIUM        1081\n",
            "ZOO, AQUARIUM, OR WILDLIFE CONSERVATION            564\n",
            "CHILDREN'S MUSEUM                                  512\n",
            "NATURAL HISTORY MUSEUM                             346\n",
            "Name: Museum Type, dtype: int64\n"
          ]
        },
        {
          "output_type": "display_data",
          "data": {
            "text/plain": [
              "<Figure size 720x720 with 1 Axes>"
            ],
            "image/png": "[encoded data removed]"
          },
          "metadata": {
            "needs_background": "light"
          }
        }
      ],
      "source": [
        "\n",
        "''' Museum (\"museums.csv\"): total number of museums per type\n",
        "\n",
        "Plot a bar graph which shows the total number of museums in USA corresponding to the museum type\n",
        "'''\n",
        "\n",
        "# BEGIN YOUR CODE\n",
        "museums_type1= df['Museum Type'].value_counts()\n",
        "print(museums_type1)\n",
        "museums_type= df['Museum Type'].value_counts().to_dict() #value counts the museum types into a dictionary and stores it in variable name museums_type\n",
        "#create a figure of size 10,10\n",
        "plt.figure(figsize=(10,10))\n",
        "x=museums_type.keys() #extracts the keys  from the dictionary  d in variable x\n",
        "y=museums_type.values()#extracts the values  from the dictionary  d in variable y\n",
        "plt.bar(x,y)#plots a bar graph using the x and y \n",
        "plt.title(\" Figure 1: Types of Museum in USA\") #gives title to the figure\n",
        "plt.xticks(rotation=90) #rotates the text by 90 degree to avoid overlapping during display\n",
        "plt.show()\n",
        "\n",
        "# END YOUR CODE"
      ]
    },
    {
      "cell_type": "code",
      "execution_count": 270,
      "metadata": {
        "id": "yENY45pIs_S9",
        "colab": {
          "base_uri": "https://localhost:8080/",
          "height": 1000
        },
        "outputId": "99fd6dae-ee5e-4f17-8d34-fbc38b06836c"
      },
      "outputs": [
        {
          "output_type": "stream",
          "name": "stdout",
          "text": [
            "NY    633\n",
            "CA    620\n",
            "TX    545\n",
            "PA    423\n",
            "OH    367\n",
            "IL    332\n",
            "FL    306\n",
            "MA    301\n",
            "MI    288\n",
            "VA    282\n",
            "WI    260\n",
            "NC    252\n",
            "WA    249\n",
            "ME    215\n",
            "CO    206\n",
            "CT    194\n",
            "NJ    185\n",
            "MN    182\n",
            "IN    181\n",
            "MO    177\n",
            "MD    172\n",
            "KS    164\n",
            "TN    161\n",
            "IA    160\n",
            "GA    158\n",
            "OR    147\n",
            "AL    135\n",
            "OK    132\n",
            "KY    123\n",
            "NE    122\n",
            "NH    117\n",
            "VT    112\n",
            "SC    111\n",
            "LA    108\n",
            "AZ    107\n",
            "MT     99\n",
            "AR     97\n",
            "NM     96\n",
            "WV     69\n",
            "WY     65\n",
            "AK     60\n",
            "RI     59\n",
            "ND     57\n",
            "MS     56\n",
            "ID     55\n",
            "SD     53\n",
            "HI     51\n",
            "DC     51\n",
            "NV     46\n",
            "UT     43\n",
            "DE     39\n",
            "Name: State (Physical Location), dtype: int64\n"
          ]
        },
        {
          "output_type": "display_data",
          "data": {
            "text/plain": [
              "<Figure size 1800x720 with 1 Axes>"
            ],
            "image/png": "[encoded data removed]"
          },
          "metadata": {
            "needs_background": "light"
          }
        }
      ],
      "source": [
        "''' Museum (\"museums.csv\"): total number of museums per state\n",
        "\n",
        "Plot a graph which shows the total number of museums per each state (\"State (Physical Location)\")\n",
        "'''\n",
        "\n",
        "# BEGIN YOUR CODE\n",
        "state_loc= df['State (Physical Location)'].value_counts()\n",
        "print(state_loc)\n",
        "state_location= df['State (Physical Location)'].value_counts().to_dict() #value counts the museum types into a dictionary and stores it in variable name state_location\n",
        "a=state_location.keys() #extracts the keys  from the dictionary state_location in variable a\n",
        "b=state_location.values()#extracts the values  from the dictionary  state_location in variable b\n",
        "#create a figure of size 25,10 for better represnetation\n",
        "plt.figure(figsize=(25,10))\n",
        "plt.title(\" Figure 2: museums per state(location)\") #gives title to the figure\n",
        "plt.bar(a,b) #plot the bar graph\n",
        "plt.show()\n",
        "\n",
        "# END YOUR CODE"
      ]
    },
    {
      "cell_type": "markdown",
      "metadata": {
        "id": "Oo6h1NH6R6Pq"
      },
      "source": [
        "#### Results analyzing\n",
        "\n",
        "Analyze the graph and answer the following two questions:\n",
        "\n",
        "**1) What is your inference from the above graph?**\n",
        "\n",
        "*YOUR ANSWER:*. The figure 1:Types of Museum in USA graph compares and plots different types of museums in USA. we can infer that there are 14861 HISTORIC PRESERVATION museums recording the highest type of museum in the United States, with NATURAL HISTORY MUSEUM being the least with 346. ZOO, AQUARIUM, OR WILDLIFE CONSERVATION record a nearly similar number to CHILDREN'S MUSEUM and nNATURAL HISTORY MUSEUM. The number of historic preservation museums and general museums, as well as general museums and art museums, are all around 6000\n",
        "\n",
        "the figure 2 graph labeled as\n",
        "There are total 51 states. NY holds highest number of museums at 633 museums while and DE the least number of museums at 39.\n",
        "\n",
        "**2) Which state has the most number of museum?**\n",
        "\n",
        "*YOUR ANSWER:* New York (NY) has the most number of museums\n",
        "\n",
        "**3) Which is the most common type of museum?**\n",
        "\n",
        "*YOUR ANSWER:* \"HISTORIC PRESERVATION\" is the common type of museum.\n",
        "\n"
      ]
    },
    {
      "cell_type": "markdown",
      "metadata": {
        "id": "toxZCPhevnni"
      },
      "source": [
        "## References Used\n",
        "\n",
        "**List below all the references you used to complete the assignment**"
      ]
    },
    {
      "cell_type": "code",
      "execution_count": 269,
      "metadata": {
        "id": "YW_6TvjFrilZ",
        "colab": {
          "base_uri": "https://localhost:8080/",
          "height": 131
        },
        "outputId": "62c3f11b-ed9a-4a4f-c19c-9c145514209e"
      },
      "outputs": [
        {
          "output_type": "error",
          "ename": "SyntaxError",
          "evalue": "ignored",
          "traceback": [
            "\u001b[0;36m  File \u001b[0;32m\"<ipython-input-269-245aa8a1206d>\"\u001b[0;36m, line \u001b[0;32m1\u001b[0m\n\u001b[0;31m    https://numpy.org/doc/stable/reference/random/generated/numpy.random.rand.html\u001b[0m\n\u001b[0m           ^\u001b[0m\n\u001b[0;31mSyntaxError\u001b[0m\u001b[0;31m:\u001b[0m invalid syntax\n"
          ]
        }
      ],
      "source": [
        "https://numpy.org/doc/stable/reference/random/generated/numpy.random.rand.html"
      ]
    },
    {
      "cell_type": "code",
      "execution_count": null,
      "metadata": {
        "id": "ykTMsTB6yUV5"
      },
      "outputs": [],
      "source": [
        "https://www.datacamp.com/tutorial/python-list-comprehension"
      ]
    },
    {
      "cell_type": "code",
      "execution_count": null,
      "metadata": {
        "id": "PCAoO2jPyUV5"
      },
      "outputs": [],
      "source": [
        "https://pandas.pydata.org/docs/index.html\n"
      ]
    }
  ],
  "metadata": {
    "celltoolbar": "Raw Cell Format",
    "colab": {
      "collapsed_sections": [],
      "name": "summer22_cse574_assignment_1.ipynb",
      "provenance": []
    },
    "kernelspec": {
      "display_name": "Python 3 (ipykernel)",
      "language": "python",
      "name": "python3"
    },
    "language_info": {
      "codemirror_mode": {
        "name": "ipython",
        "version": 3
      },
      "file_extension": ".py",
      "mimetype": "text/x-python",
      "name": "python",
      "nbconvert_exporter": "python",
      "pygments_lexer": "ipython3",
      "version": "3.10.4"
    }
  },
  "nbformat": 4,
  "nbformat_minor": 0
}